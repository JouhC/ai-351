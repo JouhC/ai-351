{
 "cells": [
  {
   "cell_type": "code",
   "execution_count": null,
   "id": "cda46ac8",
   "metadata": {},
   "outputs": [],
   "source": [
    "from sklearn_crfsuite import CRF, metrics\n",
    "from pathlib import Path\n",
    "import sys\n",
    "from seqeval.metrics import f1_score, classification_report\n",
    "import joblib\n",
    "\n",
    "\n",
    "if Path.cwd().parent not in sys.path:\n",
    "    sys.path.insert(0, str(Path.cwd().parent))\n",
    "\n",
    "from config import settings\n",
    "from utils.mex4 import read_conll_any, add_context, simple_split"
   ]
  },
  {
   "cell_type": "markdown",
   "id": "e9675a8b",
   "metadata": {},
   "source": [
    "### Approach 1"
   ]
  },
  {
   "cell_type": "code",
   "execution_count": null,
   "id": "5c5a795e",
   "metadata": {},
   "outputs": [],
   "source": [
    "# Data loading\n",
    "X_train_raw, y_train = read_conll_any(Path(\"../data/mex4/train_weak.conll\"))\n",
    "X_train_raw, y_train, X_test_raw, y_test = simple_split(X_train_raw, y_train, dev_ratio=0.1)\n",
    "\n",
    "# Add simple ±1 context on top of whatever features exist\n",
    "X_train = add_context(X_train_raw)\n",
    "X_test = add_context(X_test_raw)\n",
    "\n",
    "crf = CRF(\n",
    "        algorithm=\"lbfgs\",\n",
    "        c1=0.2, c2=0.1,\n",
    "        max_iterations=200,\n",
    "        all_possible_transitions=True,\n",
    "    )\n",
    "crf.fit(X_train, y_train)\n",
    "\n",
    "\n",
    "y_predicted = crf.predict(X_test)\n",
    "print(f\"\\nTest F1: {f1_score(y_test, y_predicted):.4f}\")\n",
    "print(classification_report(y_test, y_predicted, digits=3))\n",
    "\n",
    "joblib.dump(crf, \"../outputs/mex4_crf_model.joblib\")\n",
    "print(f\"\\nSaved model to: ../outputs/mex4_crf_model.joblib\")\n"
   ]
  }
 ],
 "metadata": {
  "kernelspec": {
   "display_name": "ai-351 (3.13.4)",
   "language": "python",
   "name": "python3"
  },
  "language_info": {
   "codemirror_mode": {
    "name": "ipython",
    "version": 3
   },
   "file_extension": ".py",
   "mimetype": "text/x-python",
   "name": "python",
   "nbconvert_exporter": "python",
   "pygments_lexer": "ipython3",
   "version": "3.13.4"
  }
 },
 "nbformat": 4,
 "nbformat_minor": 5
}
