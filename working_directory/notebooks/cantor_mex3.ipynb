{
 "cells": [
  {
   "cell_type": "code",
   "execution_count": 1,
   "id": "cc22757d",
   "metadata": {},
   "outputs": [],
   "source": [
    "from pathlib import Path\n",
    "import sys\n",
    "import json\n",
    "from nltk import sent_tokenize\n",
    "import re\n",
    "\n",
    "if Path.cwd().parent not in sys.path:\n",
    "    sys.path.insert(0, str(Path.cwd().parent))\n",
    "\n",
    "from config import settings\n",
    "from utils.mex3 import get_vocabulary, to_token_sents, count_ngrams, add_bounds, split_train_dev, tune_lambdas, perplexity, generate, read_file_to_docs\n",
    "from utils.trigram_lm import InterpTrigramLM"
   ]
  },
  {
   "cell_type": "markdown",
   "id": "433c028c",
   "metadata": {},
   "source": [
    "### Pre-processing of Corpus"
   ]
  },
  {
   "cell_type": "code",
   "execution_count": 2,
   "id": "53d960d8",
   "metadata": {},
   "outputs": [],
   "source": [
    "train_docs = read_file_to_docs(settings.OUTPUT_JSONL)\n",
    "test_docs = read_file_to_docs(settings.OUTPUT_JSONL_TEST)\n"
   ]
  },
  {
   "cell_type": "markdown",
   "id": "1e64eca6",
   "metadata": {},
   "source": [
    "### Vocabulary Creation"
   ]
  },
  {
   "cell_type": "code",
   "execution_count": 3,
   "id": "f11ed997",
   "metadata": {},
   "outputs": [
    {
     "name": "stdout",
     "output_type": "stream",
     "text": [
      "Vocabulary length: 44925\n",
      "Sample words: ['visceral', 'fat', 'more', 'than', 'subcutaneous', 'has', 'been', 'associated', 'with', 'numerous', 'age', 'related', 'problems', ',', 'such', 'as', 'insulin', 'resistance', 'chronic', 'inflammation', 'and', 'cardiac', 'diastolic', 'dysfunction', '.', 'computed', 'tomography', '(', 'ct', ')']\n"
     ]
    }
   ],
   "source": [
    "# Build vocab\n",
    "vocab = get_vocabulary(train_docs, pattern=r\"\\w+|\\(|\\)|\\.|\\,\", min_freq=2)\n",
    "\n",
    "print(\"Vocabulary length:\", len(vocab))\n",
    "print(\"Sample words:\", vocab[:30])"
   ]
  },
  {
   "cell_type": "markdown",
   "id": "7b97384e",
   "metadata": {},
   "source": [
    "### Adding \"unk\" to the tokenize sentences"
   ]
  },
  {
   "cell_type": "code",
   "execution_count": 4,
   "id": "d7447c27",
   "metadata": {},
   "outputs": [],
   "source": [
    "def apply_unk_sents(token_sents, vocab):\n",
    "    return [[t if t in vocab else \"<unk>\" for t in sent] for sent in token_sents]\n",
    "\n",
    "train_sents = apply_unk_sents(to_token_sents(train_docs), set(vocab))\n",
    "test_sents = apply_unk_sents(to_token_sents(test_docs), set(vocab))"
   ]
  },
  {
   "cell_type": "markdown",
   "id": "53039345",
   "metadata": {},
   "source": [
    "### N-Gram Counts"
   ]
  },
  {
   "cell_type": "code",
   "execution_count": 5,
   "id": "6f229aed",
   "metadata": {},
   "outputs": [],
   "source": [
    "# Split for dev\n",
    "tr_sents, dv_sents = split_train_dev(train_sents, dev_ratio=0.1, seed=42)\n",
    "\n",
    "uni, bi, tri = count_ngrams(add_bounds(tr_sents))\n",
    "lm = InterpTrigramLM(uni, bi, tri, vocab_size=len(vocab) + 3)"
   ]
  },
  {
   "cell_type": "markdown",
   "id": "a28222b1",
   "metadata": {},
   "source": [
    "### Tune lambdas"
   ]
  },
  {
   "cell_type": "code",
   "execution_count": 6,
   "id": "a8b368a9",
   "metadata": {},
   "outputs": [
    {
     "name": "stdout",
     "output_type": "stream",
     "text": [
      "Best lambdas: (0.1, 0.2, 0.7)\n"
     ]
    }
   ],
   "source": [
    "lambdas, dev_pp = tune_lambdas(lm, dv_sents, step=0.1)\n",
    "\n",
    "print(\"Best lambdas:\", lambdas)"
   ]
  },
  {
   "cell_type": "markdown",
   "id": "6746700f",
   "metadata": {},
   "source": [
    "### Perplexity and Text Generation"
   ]
  },
  {
   "cell_type": "code",
   "execution_count": 7,
   "id": "6f450320",
   "metadata": {},
   "outputs": [],
   "source": [
    "test_pp = perplexity(lm, test_sents, lambdas)\n",
    "sample = generate(lm, lambdas, max_tokens=30, seed=42)"
   ]
  },
  {
   "cell_type": "code",
   "execution_count": 8,
   "id": "62100e87",
   "metadata": {},
   "outputs": [
    {
     "name": "stdout",
     "output_type": "stream",
     "text": [
      "[INFO] Train sentences: 340373, Dev: 37820, Test: 2103\n",
      "[INFO] Vocabulary size: 44925\n",
      "[INFO] Tuned lambdas (uni, bi, tri): (0.1, 0.2, 0.7)\n",
      "[INFO] Dev perplexity:  20.963202\n",
      "[INFO] Test perplexity: 84.531898\n",
      "[GEN ] however <unk> num <unk> that support calculating the annual <unk> num <unk> <unk> <unk> <unk> <unk> <unk> <unk> a <unk> g <unk> <unk> <unk> allow for the\n"
     ]
    }
   ],
   "source": [
    "print(f\"[INFO] Train sentences: {len(tr_sents)}, Dev: {len(dv_sents)}, Test: {len(test_sents)}\")\n",
    "print(f\"[INFO] Vocabulary size: {len(vocab)}\")\n",
    "print(f\"[INFO] Tuned lambdas (uni, bi, tri): {lambdas}\")\n",
    "print(f\"[INFO] Dev perplexity:  {dev_pp:.6f}\")\n",
    "print(f\"[INFO] Test perplexity: {test_pp:.6f}\")\n",
    "print(f\"[GEN ] {sample}\")"
   ]
  },
  {
   "cell_type": "markdown",
   "id": "ee9eb44c",
   "metadata": {},
   "source": [
    "### Summary\n",
    "\n",
    "- ***λ (unigram, bigram, trigram): (0.1, 0.2, 0.7)*** - The model relies mostly on trigrams, with smaller contributions from bigrams and unigrams. This is typical when enough training data is available to support higher-order n-grams.\n",
    "- The LM models the training distribution well (dev PP ≈ 21).\n",
    "- Test PP is substantially higher (≈ 84), which indicates domain mismatch or higher OOV rate in the test set compared to train/dev.\n",
    "- Gap suggests test data contains rarer entities, more `<unk>` tokens, or contexts not well covered during training.\n",
    "- Generation:\n",
    "    - Model produces coherent sentence starts (\"however … that support calculating the annual …\").\n",
    "    - Heavy `<unk>` presence shows test/train mismatch and frequent rare tokens in the corpus.\n",
    "    - `<num>` substitution works (numbers normalized), but suggests numeric expressions dominate test contexts."
   ]
  },
  {
   "cell_type": "markdown",
   "id": "e62e30da",
   "metadata": {},
   "source": [
    "### Documents Used"
   ]
  },
  {
   "cell_type": "code",
   "execution_count": 12,
   "id": "694c3c6e",
   "metadata": {},
   "outputs": [
    {
     "name": "stdout",
     "output_type": "stream",
     "text": [
      "['5e13fbe9-d8c1-4403-a2f5-201dc10acfe3.json', '0fde8052-aad8-40ef-b332-c7f87ced0fe1.json', '02f05659-fdd4-493d-b597-0944dcbb55e0.json', '6cf15c74-e3fb-4261-8647-63d9f4c9c504.json', '28d5da6a-efd6-4f4a-9e71-2675be085c45.json', '244f2e7e-1b10-4bd3-8f96-3947457c1b36.json', '21084fb9-ec0a-4da5-81dc-8863c9920f98.json', '13fad9e0-27e0-4b64-a7de-8c502ca2e94b.json', '6c5bcceb-44c6-453d-98aa-d2686d23a0a1.json', '0e6e8c48-3398-4a4c-a2ac-433c05eaaf90.json', '639426b8-6fcd-4817-b30b-25b825ba0da1.json', '6cdf7468-0611-4e0d-af2a-66d99db49b86.json', '83301ff3-174f-4a6f-84ba-1ae95f0f3864.json', '50ca00a7-233b-48a3-bb1b-6e79575f2a00.json', '0bb165c5-eef0-48b3-8a32-958a7137947c.json', '5763f38f-da79-4cc8-9ada-b88d7485ebb0.json', '3e89c855-92b3-42f8-887f-4fd7a47d9017.json', '03cfdb79-43e0-4010-bfde-b3ddf9a2dfd1.json', '038b6f1a-48a3-4a82-bb4a-4eed469805b7.json', '0cb12a38-48e2-4fcc-8415-12d874f84e1d.json', '205cd1a2-0b21-4ebd-b781-f5c2e410cf40.json', '226b3064-b988-48af-aa16-442e9846fc25.json', '4afe6c2e-ffd0-415e-9323-4ada7e1ee7aa.json', '5915d48d-e90a-4aa0-8e69-36caa3d60739.json', '031e4b40-7c35-4607-b760-6d3fcac9b493.json', '5348ef43-9646-4fec-8a8d-c3e59c2eac15.json', '1d1522a3-34bf-45ac-8c0f-9b4032650203.json', '69aa3c48-e266-4373-b8af-e0a019ae9b98.json', '5fe070f6-8cdf-4248-911b-251abe11a82e.json', '676acdae-e2f1-498a-9d40-cea8b531ea67.json', '50bed276-90aa-418b-a6b6-39303bffddcd.json', '3e0c953c-36b0-48b9-9ab8-e7d353a39bfb.json', '20961bf8-5704-484d-8271-2c6e271991f6.json', '42e44997-941d-4790-a79d-a988d49cfc29.json', '5745ca5c-44f1-4d5d-b9bd-e611a55d6d22.json', '292d1100-6dbd-4017-9a29-b5f01d128def.json', '771a7d56-878f-44a3-8710-18f98873db74.json', '7febd31f-67d4-43b4-bb6f-9a2c83bee0b1.json', '0114d296-4801-49b8-a27e-0ab0cec33c16.json', '6f73338a-8f4a-49a5-988b-8a91bda37191.json', '766bb48d-ac99-471f-9c68-1e3e6a0ffe1d.json', '16f57b67-080e-4549-b3b4-d13db10a5c14.json', '66eb19d0-f88f-4b17-a3f8-61949881df35.json', '3ea6c549-bee2-4b3b-9423-37103e05fd5d.json', '31e94d14-e056-4d01-8402-47f2d72a4c72.json', '292a8fd9-57d9-42c4-8617-e08ebfbee27a.json', '16601e12-234f-4f13-93f4-aab6c8b5042e.json', '1fccbf76-9858-4be3-b085-363008eba9c9.json', '8caa5ef9-1132-4b47-abcc-e779ab72d4eb.json', '700d0e0f-3b0b-4fb4-9542-b6e1f73af161.json', '31526b35-8a35-4833-b3bb-146c2010eecd.json', '0e5ad5ec-5ecf-42d0-af67-17b92e612cb2.json', '0c8b6002-aef4-41dd-90ec-c99a501c391d.json', '37ff985d-68d8-4fbf-abd4-c2ba25e3f6a5.json', '0d537be8-5501-4ae1-a9ba-f4e12b972019.json', '3483ba99-236a-4102-b1a9-b3885d137d95.json', '7c7d9f5c-6335-4ab0-93ed-93d6a385fc04.json', '329fa3ed-520a-459e-8e4b-8aeefe450924.json', '595c2554-7830-411f-9275-59322f15162e.json', '2770a533-690a-4e2f-8969-f57d252f589a.json', '76be72fe-9675-417b-b7e5-027bce7e94e1.json', '05cdbae6-2a1a-46bc-84bf-d60c73a7f14d.json', '6b81265a-0aac-4f16-b1df-b7a2666c8cb9.json', '447a769a-26ab-4a8b-b32c-a29a03434cf1.json', '4fa5e9b6-553a-4b59-8d8d-c20e5b7a2eb6.json', '11b65efc-d964-4450-8065-780e1987d3da.json', '8f26f413-cd04-4408-a52e-d4b74a5b851d.json', '87aeb06b-3f3d-451d-b22a-9adbbaa31a71.json', '37cd76bd-2a19-4075-82b9-16918dc2c22e.json', '0a9a06cf-c7ee-4484-b6f1-323bf4ffcb58.json', '51cb086e-0bc0-4b7d-92c5-535a9b00ab9a.json', '2b1d1c05-1d32-41c6-8c3d-4f2097fc8eac.json', '79c4d96b-a4bd-4efa-b89e-815280cc68e1.json', '5c9b0b6c-f22c-4342-b782-289ddeb64560.json', '5b3d0070-0445-4efc-9ab3-1ceede16d1b1.json', '8219d436-a810-4345-8eea-ea209c164b2b.json', '7eb34da0-11f5-4e07-8b9c-9ffa4d11f2f1.json', '34f6924a-a599-4566-9dc6-521249174721.json', '557b3979-459e-4119-99cd-26fe5a3a86f0.json', '1bfa93ad-fbf5-48d3-8162-fa0f11d2d72b.json', '67e8cba4-61b0-47c3-979b-6d2e31bc37ce.json', '095286b7-24a0-4630-bd37-ad53e0164e8e.json', '061ab28a-08e3-4272-a838-c743c340d31c.json', '614ec9d9-46aa-44d8-8a95-d8a409cfae3d.json', '21b10e7e-3ac0-4e03-ab93-c3c1073ee237.json', '7191c3fd-511a-41a3-85b0-ff8fe8dae5c7.json', '2aa7ebf8-2f65-4c11-b193-ae3c624d370c.json', '90e2b09b-85e2-4b47-9d2a-f13ca147ea76.json', '0aab4527-4fb5-41a2-bf07-90b33726b639.json', '7dbe2eec-b042-4afa-8949-bc32f227ba90.json', '226cca74-49e6-4c86-b131-e4f0fa08d5b2.json', '7f51345b-13b8-4b57-8e9a-e5ea9c0d5a8f.json', '0e362864-2d92-4e09-832d-8727816e046f.json', '3814d479-c2a0-43b8-8601-b1ee8aa204d9.json', '292c33cf-3cb6-41cb-a734-87db210faddd.json', '4382e5f0-4622-47a8-8ba9-7791b5b19824.json', '5d9475f4-baee-4e89-9a7a-3422852fae44.json', '7a6c6e1d-f427-4127-95ee-85af8a8238a8.json', '3570db8e-7968-4dc6-a080-c2a62a629e5d.json', '1754e980-854c-4d82-bdaa-cde9979b42d1.json', '366da4f5-bd4a-4a37-8a5a-d08322c82f47.json', '33f1f557-3dc0-4b9b-876b-74ac16017d39.json', '1ebd0129-8208-4539-b325-f1471bfdd3b9.json', '62b5fe58-4dde-4f31-9fdc-fd5cc4da965d.json', '27b69586-0a9d-4990-8e84-4d4a09bba38a.json', '6789ba40-247e-4ebd-b5ea-0c9fed757867.json', '89c0c696-b7b6-4ed7-b803-b6c335bd4408.json', '649f2f7e-13fa-4674-8b05-4292208a7a7f.json', '5f9e547d-55bf-4b9c-91ce-1901f1f112a5.json', '098f2d2d-6528-46d3-bfaa-0d02ad17e219.json', '5a164402-1126-4926-94a8-fdfcc65e7387.json', '5d693607-9963-4619-9d67-6176bf071279.json', '1897954a-3631-4ed2-a7fb-3a09d699810a.json', '4f6be74f-b288-41ef-a4f7-c76df4e711f2.json', '6b7847d3-810d-4974-9a0c-50cb5d4fa326.json', '244d24f0-6a39-4269-a122-28d7a8219817.json', '176e6048-142d-462b-b5b4-29f37a39994c.json', '44ccd080-d937-4c42-bedc-d800db665025.json', '37f35f77-90b4-4c19-ac10-3d9924f09a99.json', '28388d72-2fec-4be5-8a89-af5c6b10a192.json', '917c2eb1-6d37-4b3f-9d5a-87d76afe9b03.json', '88110f76-b8ad-4464-b822-e4f75b2706bd.json', '5e35fe79-5023-4018-b9a7-365cd55c72e4.json', '6573fa85-99bc-418a-9897-8d935840d297.json', '528addd8-a1eb-424d-b804-83d2ffbb55da.json', '2083d879-cb77-4bfb-b6d9-cbb4c10650df.json', '64e088b2-38ba-4bcb-8a2c-6c8da28a21f6.json', '2fa482f4-c78f-431a-9aed-10d7e3dae64d.json', '7ba2ed36-c308-45bb-99d5-e83a7bc78b10.json', '70e089b4-35a7-4623-9178-fedc371d2860.json', '71ed23ed-a26d-4db3-9650-4e1be78c69a0.json', '079a74b8-2106-4b47-a0f9-8e48081fb5be.json', '21e4ec9b-3b8d-4c75-af39-387571d18bcc.json', '78d1be73-fdac-40fd-b014-b30723b9aafd.json', '03e06765-8b68-4928-b207-b7bad6bb99e8.json', '764dc91b-2e08-4c46-9fd2-cb5b77181834.json', '2eab7a73-04fc-4b80-a6c2-77e43309edd4.json', '3b6bf0a5-a505-4407-a8f7-ea65f72291d8.json', '27c6cd62-6548-4b59-bb90-fcd624612d59.json', '08c2b646-f68c-4303-acd3-8104ab1995f8.json', '1f03d9d8-a9cb-4ae0-b6b4-adf77b1be989.json', '85f829df-2518-4fdd-a50a-77162129751f.json', '8a7cf8f8-b153-49a3-8d09-ea8aa9b94fda.json', '543621b7-f13d-411a-a6c7-c7864ca9ecaa.json', '8114212e-4c48-4d13-b56a-94690c1f5c58.json', '69ed4e0e-844b-475c-bad0-4216219133ff.json', '2e848cfa-6d65-4db3-8477-4f13a99a7a48.json', '1f5044c2-3f21-4e16-9606-daf558b00a98.json', '607567a2-22b7-4c74-a8dd-bd08423f8253.json', '4a3a7e0a-f0f7-4d64-9535-f2b539b0b074.json', '3aa2baa0-309e-4fe2-a671-f99b11b67a5d.json', '8213ad08-7ff1-4f50-b7fc-057322fbdcc7.json', '865f7303-7876-4cf6-85c8-ff117ae0f7f6.json', '5eb8b880-b6f2-4a5b-a0e8-cf2272cda188.json', '444efa58-bc0b-4163-9940-4638bada134e.json', '147b87df-e46c-4d8a-a03a-00d7da262ac0.json', '2779dc20-059c-4915-9f36-101912828e95.json', '24ad670f-781c-4f74-a5b2-9dc9a7003a3a.json', '6d69dc7e-c8c8-4f78-a36a-f90727e0f631.json', '5350024a-a201-469b-a85d-015c9417391f.json', '4ff22cdc-741d-4276-8480-c7e94d7f84f0.json', '27320373-5294-4a75-96bf-4fa832535f77.json', '6d98a339-1b41-4388-874d-cc8c36153934.json', '5699c597-daa1-4ab5-a189-8fd7c2888fba.json', '3f65b631-3b21-4cd0-9b82-6c3f8a4a217b.json', '84290140-f0c8-4f26-9d32-63b035483542.json', '56634038-aabf-430f-bbd7-7b6cd1cd8d85.json', '3b2eaf82-a880-4576-ac7d-e6caa4061b2e.json', '350094a9-4bff-41a4-9e35-edb96ef70f79.json', '206f257d-5bd4-432c-bb71-a3b1b53cddc3.json', '92a74fdb-72bf-4c02-9dc3-284738e442d7.json', '92aa14f3-fac8-4cba-8d44-6bfc3dae13da.json', '13c26bdd-8866-438e-bcf1-0c2c0a5102f2.json', '4b8b5305-0473-4ad4-b4ca-baac694ae151.json', '4972fcfb-a5c1-44c6-bfdc-e32c7fe95ba2.json', '0c661553-616b-4419-b643-13ca9c6c24d5.json', '6ee82882-414d-48a1-8091-f0207bef023c.json', '0649daf0-8b53-46d8-9caa-146ff8ab89c0.json', '7ea6267c-459f-4ecc-89b6-b8839c7309ab.json', '0f9b846b-203d-4ead-ad47-1e182b974fcc.json', '15e40aca-6847-455e-9fe6-af11350a1aab.json', '5c839461-c177-4ebb-bde0-59aa910d9291.json', '16fdb856-59ea-4dce-aa61-e6b450aca460.json', '745a0c5b-f421-488e-97a4-31451bd40f92.json', '643bc463-1c26-416a-924e-0e2442434431.json', '3e8fd0d6-f752-46df-a8d5-338556f0810d.json', '5856d5d1-7784-477c-8050-7a43819d70a8.json', '086282a3-6a47-4b06-b7b7-c093b9a14236.json', '38be34c2-e5a2-45c3-ac3a-9b3787f58906.json', '38477ac5-5c61-489f-aef5-96fe9f9802f8.json', '5853156d-567d-4ef6-9315-67ff01c12270.json', '92725a45-71b5-42f5-a853-40127aaff16c.json', '45a88d54-a216-48f5-a17b-020b372a3a47.json', '4eaa5f6d-d258-4173-b94f-87d3149327d0.json', '2558d9bc-89f4-4310-8f02-12243ed7930e.json', '8eb7b89d-201e-4173-a82a-ecfabdd977b4.json', '52108b7f-43ae-4070-a5c0-ca189d2e0750.json', '7e9aec0b-f3a9-454e-be14-a12506d29a5e.json', '8a6a02b9-6a2d-4758-8f7c-822608bf0bbe.json', '017d279d-16a8-4ca1-9703-c35c1fd4bd6d.json', '6439d0e2-4092-42d6-a4af-691e2670449a.json', '6a5d1fac-9c1e-476c-99c2-250ef49294f7.json', '10617ede-ad4c-4d16-b8bf-54acf73479a1.json', '645af351-7545-4037-b58d-520b4c0cb836.json', '82140a24-c78c-494d-a022-fd47fcf12133.json', '4fc1c61b-aaad-473c-8184-0b7c60c324eb.json', '6e40ebf7-5612-434f-9f2f-d59034ff042f.json', '27af0321-05f5-4fa5-97a5-64f239acbb47.json', '70ea0634-e67f-4008-bb2b-caa8296251e0.json', '5e53efcc-33b1-47f7-8d42-ffea52121d45.json', '31e6d751-f617-4531-a8ab-9af4aea1d23e.json', '0fe0046a-4121-44f5-8182-a1950fdb3bc4.json', '2b2052c6-f863-4d50-85d5-f45fa1c3ea41.json', '4060cd72-749b-47d9-8e8b-786a87e6e284.json', '16a3884d-ffcd-4bbd-bcd9-24a76c0d362a.json', '438993b6-bb32-46bd-8bab-daed04c520b0.json', '008c7bad-3e81-4b3b-be8a-6719f20be3bf.json', '8c4d5b3b-0c0b-452b-aaa6-ed4500017450.json', '6a8a44b0-a7c7-405c-a5fa-1aaafcb1868d.json', '80fc9c0c-d478-46b0-b419-d572124129a6.json', '6a4eefb8-122b-468f-9e37-7ff3b7106ff1.json', '274489aa-0f74-4b4d-9ebf-932352ce611f.json', '8ede1381-d586-46a5-8d70-011812de0a2b.json', '4a69f497-dd6c-46d9-9329-64389a7df565.json', '6fd132f0-87bc-4cd8-a0fe-edd99934c9f2.json', '19dcb425-5047-4139-8ab7-53392e3ca559.json', '4b2a378d-96a9-49f0-b10f-d4748cb4b42e.json', '85efba11-55ae-4d96-81e6-7ad76fe7f80b.json', '0f1745c1-e65a-4f56-a563-c5d5b3e3665a.json', '8012a057-7377-4a6f-b713-32740eb3c830.json', '5c31b68c-92da-4cdc-85cb-53ad5a851077.json', '2bdd5af4-a821-431d-b87c-adc1df80c040.json', '7b7b3341-6192-4693-a580-7f2ee2a62e21.json', '5df88594-59e8-494a-8224-8d09ad15b07b.json', '5a110a4e-dd54-4266-aa3d-b91c49127934.json', '1d1eaa0a-bbec-45db-94e8-c47b3be9c26b.json', '370e6cd9-488d-439b-849c-cf18e8de37ba.json', '6fda8b41-bf25-42e3-8ea7-aa0360498ca1.json', '173daa86-5d13-4459-a0e5-e63b69209fd8.json', '50034d5a-7880-4a95-939c-7bd4973198fc.json', '8c45205a-107b-4688-933f-cf3e5a6029f0.json', '72270831-93f0-4257-9eaa-36f902586b6f.json', '87b0d287-6ac2-4aa9-9139-8fb324b4ae02.json', '4ecd956e-99fd-47c5-b2ec-cdc253e4c9d0.json', '87013ea5-899d-4500-9be1-a5b812b68b47.json', '0010357a-6365-4e5f-b982-582e6d32c3ee.json', '58b594f4-386e-4b95-8288-a8f27722c444.json', '2fa39140-2ec7-4938-9901-43e7715fa02f.json', '48ac2108-70d1-4804-be08-0761a34783be.json', '02558488-d4a5-4ff4-9560-cce13ffd6d96.json', '0feb8307-c4cf-4c30-8507-2e9f05cd4d84.json', '88a5a8e8-09dc-4dd6-a687-88beebb20675.json', '35222fff-a15a-4ff3-820e-3a9346f55004.json', '8163c926-4a6e-4ddc-aff7-e64fc67efd80.json', '90e6a924-b8c2-4509-a062-3488dc469295.json', '7a0c1524-baa5-4765-9ad0-35e19642ed24.json', '7694142b-7534-42c1-839e-50f4d344abea.json', '2d3c08c2-0088-41b4-a33f-f6c6d7b21aca.json', '23813c71-262f-4cd1-88a9-76b81edf3196.json', '07c1a0c2-4bc7-4a47-bec0-4070c3b4147d.json', '23a89605-23a5-438d-a5bf-fad983b82b13.json', '814a563b-521b-41c8-979a-9f035d038ae6.json', '5436571e-aee1-4a2d-8f37-7236d4d3e0d7.json', '8b3200da-34f1-40c2-a484-fe2253801ec4.json', '0b8e8e08-7674-4f06-aa98-ef446ecd0253.json', '6bb802be-d63e-48a1-8aff-ce005876b1ab.json', '4847a4e1-7e35-4d9b-8165-57ca883c273c.json', '7801b02e-552a-4a8b-bb22-59b5241551c6.json', '0936a973-5e22-4ae0-b069-aca97c61b601.json', '8fb9a474-7138-4f6b-b274-b31cc6f7b9b7.json', '6fa9bc20-3ae1-48df-88da-523a6b7b407a.json', '4f4afcda-12d9-4513-b12d-74e29ca5b6f0.json', '7074f121-0761-4a56-b3da-09f2af2432a3.json', '11d3e351-0a51-4557-92c4-848d3e4c1e70.json', '123d7578-cbf8-4a2b-b380-33ad17c0828f.json', '6120275e-3ba8-4e1e-af75-30fd907fc24a.json', '46b41bb9-3ccb-4675-b64d-e58b2ad6ac97.json', '8b30bd09-67a3-41f5-a8cd-0fc2c3e9c5ce.json', '51762f60-302a-4954-aa5f-a7af1ba7b4f5.json', '17a650b1-2c52-486e-acd5-c4c1ec32d65d.json', '278201b6-bead-48a8-9b85-a96a13888845.json', '4e85156c-0b84-46e5-a586-e0d7dacecf8f.json', '8067b758-4775-476d-bb61-51a3b0f21e49.json', '59ab7236-a113-4757-8c11-695b1fcbbdf1.json', '3eaf42dc-aa85-4e81-8083-236bbd7939c5.json', '8ddfb8fb-66ce-43e1-b4c8-1c5492ffb95e.json', '1f48b89b-d288-45f3-862c-bf30563e7d3a.json', '889ee5cf-2be7-4ac9-8fb8-25e2ffb22590.json', '4ff78305-417c-4cd2-8c48-6d1da22fe691.json', '6ed7aeca-d464-4720-8139-962f68f40951.json', '6b87b603-10fc-428e-9b41-d1120b26f757.json', '65b19dc0-9bfc-4432-998a-07d5c68a0ab5.json', '1d973ad0-a679-41b7-9c13-6bdc82cb7896.json', '695d35c3-a2ea-472f-a905-e6d2e5bdf77f.json', '2e0e7b98-686b-4e65-a55a-b763c6fa333a.json', '3b1fe15f-69c1-4947-b5c3-bf939ff68776.json', '922dce9f-ebc3-4163-aba0-738824e8ce2c.json', '62f7505a-5849-4166-9f66-8f9614d37797.json', '36d94ba4-e3a9-4acc-9745-c09e7aa58e74.json', '40c62eb2-945d-4530-84bc-de25b25db55f.json', '845eac7b-51e9-493b-9f5d-fab79c31c7e8.json', '4cf89c09-4996-4135-8395-19de7fa2c9b0.json', '43435a59-a88b-4b27-a522-69172ae67775.json', '11312fb8-8c43-4c7c-a3f4-1a2a99204249.json', '24ddcf14-43d0-4c79-876e-5985c6376011.json', '211f32ab-a3d4-407d-bb95-0ae95950723b.json', '08764fe7-46ab-469f-97e5-c72ff3efb800.json', '318d5bf8-0b4f-4a31-bba3-da91fd03bfed.json', '02908c55-c353-438e-96a1-72f1affab8af.json', '5721a517-5aad-4130-9b23-5f0ed07c585f.json', '5224fee7-afb6-4248-98df-8ce14bf07d75.json', '22137b54-ec74-47c0-8d99-9f75abab7627.json', '572252e0-3819-4d5b-a865-30a0c377cb4d.json', '2095e25f-4ddc-4037-854d-3e0e0ab76286.json', '01249354-aa44-48ad-9260-46fdce7bf773.json', '098028dd-d099-47f7-9e9e-01ed04a0aa74.json', '6886f4ed-648c-4042-be91-aed0fa03ff05.json', '5cdd9194-dca0-4ce3-af61-e118e47f73a5.json', '07d9c326-cd53-4f6c-acae-ad941becc26f.json', '21e40770-d50c-4a51-b5ea-eb40308bdd75.json', '08fac29e-046a-4f7a-8b14-c4ce0cdc0671.json', '84f2ca4e-2d1f-40f5-857b-7d41fe724645.json', '03bb26af-baba-4614-8cba-270cdc6e1fce.json', '7e728396-75ab-4e86-b450-adca23b97ecf.json', '30920707-a7d6-44df-97da-be13ae88239b.json', '097e0370-19f2-4945-a303-8a7e63ee19db.json', '4c61078f-a9ba-49a3-9c0a-364f7bf576b5.json', '2348b0b0-36e1-4e2f-b813-c4520248d8ef.json', '2948e187-10e5-47f6-8c9f-cecd6c496d08.json', '6277a0eb-c7b4-4840-852b-c9ba8715fd82.json', '4838bc5d-959e-4ed6-96bd-f5b3454c1168.json', '1fa2de2d-bd86-495d-925e-6464c44f1839.json', '12c6c6aa-32c6-43a9-afe4-97e5b0a5c305.json', '6a9dbea4-8899-49de-91bd-747e5b7f8d82.json', '899ac32f-d5f6-48c6-8886-0048fa58bd6e.json', '81be1472-83f7-4348-b19b-5f6d9fc8f0a3.json', '54a13a23-24b1-401b-9efe-e6b8d1f36fca.json', '5553ede6-929f-4ffa-a75b-64b7210bd015.json', '466da292-1b6c-4aa4-9519-abdcdb25c7eb.json', '24001db1-b814-4b8d-b8bb-c43e74de72dd.json', '7319f614-ae03-4aba-a28c-c489770791d2.json', '466f177e-e127-4aac-a328-ee18b83d9d4c.json', '76d0526a-4dd6-478e-bd6e-d0f331e41cd3.json', '3c33d3ee-c3c1-4952-80a5-246c8c593e1d.json', '1b9e16db-7789-44cc-9498-d1e0c156a593.json', '0ce23727-2d2b-404e-94f8-74430b30bf31.json', '0d5d53c2-7450-4eb6-85c9-c6628ddbd659.json', '60f971db-43c9-496d-8fc5-7fa4705bc23d.json', '3fb05deb-1be3-4bb0-8895-fed15ad64bb5.json', '33d0e2e8-25b8-4f76-80df-aa996f90fdc4.json', '3ebcae5e-c7e9-408f-a9ac-60dec31e9c8e.json', '3cf44362-809a-4188-919f-3eab5c73444b.json', '45853c7e-a32f-4953-80f7-256633c219a4.json', '7efd09cd-7b75-4134-a6d7-d7163609ee2e.json', '6b6ef3ea-a643-4c1c-99e3-461ceb0b00f6.json', '0764c281-00bd-4149-8148-85d6b695c7a4.json', '63234068-84c2-4c18-8f10-a2c4c765a6ae.json', '6042468d-90a4-4049-8dcc-64145e7cec81.json', '90d0812c-35b8-4638-b1c2-ff985c7d41f4.json', '5f46f0f2-013a-4db5-a65e-339feb046913.json', '0db8b0ba-15f5-40a0-8134-c60c3321c219.json', '0805f824-d221-4758-9a95-b865d7e2a61f.json', '3ba07713-d297-420a-b8d0-035806da1923.json', '6b64b2f1-799e-4e7a-ae05-b1bcfbef1a7b.json', '31c8114b-8365-4c29-95f4-4633eb381f03.json', '75a7d7b9-68e4-4a22-95e7-8ff7108cf697.json', '7eae6835-921f-4d5b-9dad-8be97f5598d6.json', '0f92901e-2237-4bbf-ac84-69d26c508943.json', '24f5c9fa-2819-44a7-97d5-caae7453c8b5.json', '1bd9d26b-1a19-4c88-a18e-7d07a4205ef9.json', '1b9bb4a0-f43f-49bc-a7bd-1c08935b0a81.json', '4faeea28-6939-4e29-b029-d5c3c0fe4c39.json', '42da774a-c0f6-48ac-9aa3-414b22db4419.json', '140b0fc9-f6ca-4c23-8cf9-8155d6322516.json', '1a8afb28-1df3-4d36-80af-dab44b834bd9.json', '44d9c69f-3141-4e0e-b0f1-909f90eef2af.json', '2512ee19-2da3-4bd3-856f-3ab8b1457a64.json', '80c0db6d-4f34-44ad-9c0f-d34d7ed26dac.json', '87ce2719-8bdb-4ea2-988f-3e5b0a5283fc.json', '0a21bdc5-9851-4b0a-b493-7a2f3766b3fd.json', '41c8139a-f5fe-4f63-9105-a5a4873e45a7.json', '76e8735a-6d61-48fb-9016-552234828830.json', '7eacbdce-31a6-40e2-9f5a-6b3bdfa65c2b.json', '7dcc60fe-1947-410e-9595-67f01e4e822f.json', '51938ccf-c223-40f7-94de-ab1969be0d80.json', '0d9670d1-fdde-4cd9-85af-284da50ca7cf.json', '06e76ab1-be3f-44a7-b847-53048d37efb3.json', '60147628-233a-473b-8f49-7b13a515fa59.json', '5033d17b-f35e-4538-8cfd-ff73490af318.json', '7aa26ef5-69bf-4f11-89ae-7c9dfdccf465.json', '01eebdc5-9da5-45fd-a80c-85ad6cb8ac27.json', '8e6cc0a0-52f8-42f0-91bf-865f15c1b161.json', '0ca6b3c0-d274-44a3-b11b-d458dfbe6048.json', '88385fc6-f0c6-458c-adfb-0048fd8989df.json', '6ea5d75c-1110-4907-800b-2ccd24539b75.json', '7cafd428-54c2-4095-a27c-61a688c09dc2.json', '2308fc49-754b-4c01-a7a3-7065cc3d9435.json', '17d924ff-6b8a-46ea-a83d-f24306861676.json', '3c28759d-3642-4cee-9ff9-81306a6375da.json', '483d239a-83a7-4ab8-a36a-e52c6521b8fd.json', '47937ac5-9c1d-461d-9efd-991523e93782.json', '1f8258a0-9c72-4b7e-94bf-5dc5cee2f69c.json', '7f0bf8bf-80fc-4c2b-8921-d1620e7b4afe.json', '3b676380-003f-49b3-bf02-6db21149b11e.json', '84946336-3422-4178-a0a7-fa2df5fb9dd7.json', '07d8261f-7678-41ac-a598-6ceeedba0f5f.json', '179a3672-8f69-449c-87b1-e9b81d11810b.json', '37df8dd3-6221-4f4d-8d8f-fd13807c7b3c.json', '0047dc7b-dfc8-4b43-97c7-5bd056897e80.json', '39db71fe-67fe-4981-8bcf-6a26aaaaec91.json', '27841fce-d833-458e-bc7f-b535b14ae52a.json', '883fb13f-adb0-4470-9424-42dc4269b60a.json', '72f09d94-b1f2-49bf-9112-f21753468990.json', '732d24ea-4f66-48ee-8a8f-3818062760a3.json', '43baf587-ff28-4f1f-b92f-6e61aad8b682.json', '2a089f79-6a24-459b-8245-12ee5bad73b5.json', '3eaeb5e3-80d5-4b8c-bad2-eaf28c1f3eec.json', '66bb5830-cd2b-4589-87e3-627daa7bfa94.json', '8cabf903-6ba2-483c-a124-aee558e58f69.json', '6b9206d3-dc6f-4d81-b153-71cce44e0581.json', '92479665-daea-4a10-b00c-8b3d0f5c7583.json', '72d41616-6892-4b43-954d-e90b5bec91a1.json', '5262cab1-328e-420b-882a-70465937d3a2.json', '61684e70-9b8b-40d8-b5a9-69c6048a880d.json', '6a18b749-6378-4812-bb79-69ec7e01991e.json', '4873dc7f-cd22-4de9-b170-2a0a8f858913.json', '165276ea-958a-491c-a141-39fba83aeabb.json', '1b98ee44-d1e4-4eb6-b0a0-2b4d790cca01.json', '2b61d590-af34-47f4-a9bf-a9fe74dc71fe.json', '201e7003-b687-492f-acad-6e5292c6591a.json', '8e631e8e-3734-46ae-8e45-f95a260023ba.json', '07d0753c-b240-4aeb-9898-a77e25210dec.json', '55c628a4-6698-4fe4-9747-13885c80c291.json', '6c33beee-dc36-4ccf-b460-bb6a28a5346d.json', '506b6db3-eb40-48e2-847b-f169fdc17a9d.json', '080e63cc-6fad-49b8-8852-8a635f0f9cc9.json', '6dd5d15e-02c2-424e-995a-d10f5b5bec1b.json', '2e5eb359-505c-47c7-a3f8-694ca7dd1901.json', '07b1526e-50ad-402a-879c-d41473ede755.json', '06d3b06c-cb2e-41e6-ae15-046c4621d6c3.json', '568fedee-d8aa-403f-ac2f-9f42cf620077.json', '46df344f-94b4-420e-948b-14f38c2a3222.json', '4abba2c9-f127-467a-bc4b-fdf2fdd69e88.json', '871ca90f-408f-4903-b97f-dcb174354b28.json', '7d509f2e-a1b8-4c62-9de1-67398981efff.json', '4ee329d8-5436-4a9d-a9de-4cf485f7ab1a.json', '16956efa-f477-486a-afb2-fdb3cf0f982e.json', '07abce21-d5c9-4dcb-83a6-2ae1923b03d5.json', '8d4fcadb-b363-4495-80c8-5549a6c77c3c.json', '4b3e8bf3-9721-4bee-a7fa-b56baa5f7bc4.json', '0ab5acdc-173b-4be1-9034-2e9c423db80a.json', '7d204806-b40f-45da-a305-38c022bfe0d5.json', '1acddcd8-cb8a-4383-9732-b81c82c05d69.json', '0923d5b7-7b73-43c1-a419-748a1f2e292a.json', '583a54a5-29e7-41f8-a157-95b0a0822714.json', '0906121c-d167-4354-a6fa-1c34b0619e83.json', '6367a46e-6b4f-41e1-b71c-bcdb2e6e3c7e.json', '7eb8d2d1-604d-4b97-97f6-0a0f53837909.json', '22be8f26-7e69-4559-bf48-2bd13a5ada35.json', '3bba0def-88ce-415e-81ba-758c8b25ecea.json', '110edfdc-36e0-457e-936c-5f4f7a45f5c0.json', '8a332a03-201f-4bfc-8790-f26c9149ab9d.json', '82e563e8-8f65-4740-b77a-1fba6b05abcf.json', '547d9b2f-e748-4950-9c28-3fb60c71df8b.json', '24a32d75-2f94-47d3-830d-0775b59e7da0.json', '55af5c85-9453-403c-bb48-04426888dc37.json', '58295a33-b943-4a0b-9b97-08c952c003d4.json', '052d8f0d-be4c-425e-93a8-ea6a494ed9e3.json', '5b53627e-7c4a-486d-a98e-1154aba452df.json', '0afa6aa9-f0ce-4561-96af-91cfdf3ea196.json', '3e0741b7-9c3e-41fc-83f9-064318e4ce40.json', '60d10ee1-33db-4223-8e20-ba19252f50c5.json', '566b50b5-10f9-459e-be08-069cc524180f.json', '53e4bd6d-de11-449c-965a-d4f0b00d8ee9.json', '4dc033ed-d591-46d9-8e86-814d52a06be7.json', '2ec10c65-ad57-40b8-8702-0b25bc5047f7.json', '897f4258-0e9a-4696-925d-94a13378fa99.json', '26c49cc4-bd88-48e4-b8e3-ba33ad5abd19.json', '1dec27f4-9e9b-4235-8e59-d13c1a620847.json', '629c9727-502e-46a6-afab-887951cf301a.json', '69b8d1da-01ad-481e-8ed9-189e7d75c6b9.json', '2e7209e8-c7a4-416a-82ca-9faffdd33b37.json', '236fae4e-8efd-4ed3-876a-39f7c6406799.json', '278818a0-2edc-459f-aab2-1c89466c806c.json', '3aa9d1fa-1684-4bff-9fad-2a5c46364e7f.json', '1279c741-5261-463e-9848-9d2ca5428af0.json', '5f2f5feb-48aa-415b-a4ff-a4527245ad46.json', '2c249cee-7785-418b-bd3d-caa3f7bed9ed.json', '440c5764-5fb2-481a-80e9-c26be5c8f318.json', '2ebf7c2b-05c7-4c3f-b1f7-aa6cf578a265.json', '88a210d1-92fc-4962-8e38-fe116beeac2c.json', '6e694b25-e8f5-4e59-9c03-fc8cac236c61.json', '899f966f-5d9c-4456-92d4-833eb518b49f.json', '09c245ae-4750-4017-8b31-e24ab3752e4b.json', '01489791-f71a-4c1e-98b8-218a21a72163.json', '44387317-b690-4225-9e90-1108cad692fb.json', '5b939464-0664-4bda-9a98-fb3c6816bc21.json', '92cfef91-39b2-4033-ba08-57adbc766e99.json', '539f58cf-4f37-40bf-bd3b-6a46565e71e4.json', '0e03b320-0d68-46e2-8312-121be93dd722.json', '09cc86b8-6e6b-4589-9d4f-357ed6617c8a.json', '4fd2c95b-77af-4adc-954b-e878e66bde58.json', '1f6455d0-15c8-4a58-9f06-57376d63cbba.json', '4b062b2c-e910-4d0c-990c-a1a0648f2875.json', '12d0ec97-632d-4d62-b5dd-9aa9e6483b40.json', '893d3ef3-0ae7-4993-a2f6-7e5905226c2c.json', '3329a19c-7fc7-4907-9d35-bfa592d0391d.json', '81a15086-6d48-4674-b651-79375ac763be.json', '092cb623-3f34-4ba0-8c03-db2656ec2d06.json', '81724ebb-d142-40e5-a4ab-c5cd7f961f92.json', '242d7380-bff0-4e05-b5b8-485733d7c329.json', '36585e6c-1bcb-4fb3-ab33-9d646036caa3.json', '2a02a8d3-1cf2-4388-8422-8967c091e1d1.json', '1698d574-ab46-4f7a-8192-2e60566037f3.json', '40d54af0-253f-4d7b-8291-f986bb09ec37.json', '7a5f88eb-e841-4bf0-93f8-439e2d2fb492.json', '509589cd-e2e9-439b-baa4-22be5963942e.json', '67d27c0d-3e69-457e-a605-2c1ccfddc349.json', '2c92ec97-80b4-4c5a-82eb-ffa2a32941b2.json', '5a6050d1-7675-4d61-bf82-c025d8272680.json', '90cea309-481b-42bf-99d5-00ea9d8b3443.json', '912c3145-d6d4-44d5-b3e1-e60486a4dae2.json', '605461d6-a1d2-4ddd-ac2d-a883981e83df.json', '4ea7faf4-8fb6-41e9-8bcf-c87dccb4d6ea.json', '012c83f4-04a0-4939-9680-91f259fb2556.json', '6255bd76-2088-411e-bbc4-1e452f9e58c1.json', '783787af-9303-424d-b955-3bf5feb094f1.json', '522e34bb-697e-459c-a5b2-737e39948179.json', '2c072458-1952-4920-a710-7b772f776277.json', '891147a8-c56b-463a-b404-d07b081a0b43.json', '61afa60e-22f9-4094-b611-1be2669a9ef2.json', '0e89d0ab-5d8f-4c88-9b63-a9c1f39066ad.json', '89fc5f7c-8973-439b-8a06-b018ab67f2e3.json', '814e10c4-028b-4dd6-83c7-a10e7a2786bd.json', '13208464-e827-43d4-b613-dd384f4c81f8.json', '107caad8-315c-4654-9005-1134d3a01e07.json', '82c72859-49e8-4d0b-8222-be3be109726e.json', '0f32dc70-b000-4e43-92d6-354ff1543acc.json', '6cffe1e9-8493-4a9e-9e8b-b98490857443.json', '28784def-b82b-47aa-af6b-6431d3182151.json', '29afdb31-108b-4d50-b454-654e525b1f96.json', '59955fce-1bd8-444c-923e-ed10ada9e92d.json', '1ee745f3-349c-41b5-ae63-1c0791321d4a.json', '69e6bc4f-2614-4fd5-815e-0a6c3dc93fd5.json', '325da1dd-3cad-4260-a435-a9e902542d9c.json', '1dca4b7f-0366-47c3-b83e-f9119b983886.json', '655adf89-387c-4355-9207-5e2077a53a9d.json', '5d494bae-8177-426a-8247-f5d369257590.json', '7d5c99a3-4538-4f0a-951f-b8538f9c5804.json', '275e440e-1eb3-4e0d-ad8b-54d827b5bb31.json', '4aff7194-d164-46c9-a235-56017408ba60.json', '2550660e-ae8a-421f-916e-04a254a829ee.json', '84f10766-1a3d-47de-b01a-33ba71efe037.json', '856a17d1-ac54-4871-a2e7-ab2b22348bbf.json', '7c520d7d-37f3-4ba3-bf36-ecd45ae6dd67.json', '06f2cb3b-a80b-453e-8e9f-f603fc4dbf64.json', '0c870676-bf11-44cc-8722-973c5568214a.json', '5d55e0be-ef2c-42e5-aa32-a7cf1567dc5a.json', '29018ff3-8ec5-4b27-92fa-63eeb9a9401c.json', '05daa7a7-805b-46f3-af6f-9f2f7f5872c6.json', '0095df80-7c87-457c-a01c-d89f9e0e1747.json', '3105aebe-b227-4df0-b087-e0496e2f6468.json', '714e0232-6cf9-4443-97db-d25c6e2dd4aa.json', '127464c2-c63d-44f3-8d86-673d8516c449.json', '5dc4ecc8-675f-4bd5-9f86-0dd24cad0d54.json', '900e4157-bcb9-4270-b340-ff8cb3687e9c.json', '26f6d309-d11a-4335-ac48-27a33c9d6953.json', '6ceabf84-a4ec-46d7-8300-87a619382d4c.json', '41625496-bc2f-426f-888e-b20bc9e3e589.json', '51bb7be8-5330-4c82-bd86-fecbbb9c4d6e.json', '681e1987-14a6-49f4-a7ac-a2a1541182f3.json', '3f40aa54-5183-46d5-a453-5206165597de.json', '5346e09d-a6e8-4db9-ba0c-187cd4e066b5.json', '014b0ebb-4f71-46a0-8d38-7e6a441a31e8.json', '0a126599-c86c-4fbf-b8ea-ceae6e6bc7b7.json', '8ae3f3c7-1c4e-40db-91fb-9d50ef95af77.json', '81dacaab-0112-431c-83fd-17529b3418c6.json', '65eabb53-6ef9-4be5-a05f-77c87920b64c.json', '84cc38e4-721d-4c6e-b6d3-f457acda81b5.json', '1566b108-9136-4f12-9880-362b20bda7a8.json', '50d6879b-1c6b-4434-965e-19a7271e8c49.json', '049506bc-5194-4b3c-bc73-a5d263eef476.json', '7a7b7f17-8df1-4d93-8452-113ae9df1935.json', '36474736-9e7f-4229-831b-d7c10a96a86b.json', '563cfe3c-8221-4b14-8e11-71addc55ab40.json', '51ddfe84-3936-44eb-bd13-32397a0e47a4.json', '1530aca6-f943-4847-9a2f-d1db4169fb71.json', '3f8e1c21-4ca1-40c1-ad04-cc489642b420.json', '12218714-f66c-4718-9a48-1955e01b80bd.json', '05937656-ce91-4f5e-8c78-6bc7e5c306cf.json', '2d73045a-e743-4e4b-9740-934a09facfb4.json', '356d7c79-d52d-42f2-86f2-a71bb314f4c5.json', '84441b0a-b5cd-4a90-99e4-49197833c75b.json', '8939aa92-e217-49d3-9d5c-d17945350ea5.json', '7509a25e-587b-4ee7-8e95-5326c3331ed1.json', '8eeba1d0-837d-4e92-84e3-dbd4cf5e98d7.json', '7e9548f8-f50e-45fc-92ac-49b57fae9469.json', '05351454-8203-44ac-8d63-5e3cf834228d.json', '844378a7-c015-47d6-861a-6216c6fd96fd.json', '34522fbe-26c3-4793-b064-45d2d60082fb.json', '1ed8f521-dad8-4706-b416-5985fac0e55a.json', '64662b41-8993-4fdd-a355-251a5216961c.json', '25099a85-1bf6-417c-8365-0f490339ce73.json', '622123b8-bed9-4f4f-b026-158e552f0839.json', '0e74adf0-5479-434c-be44-9985c6929f32.json', '33c17b60-def5-4491-b5a5-e56900bddb55.json', '725a82d6-b2ee-4e59-9f39-80f7803571d6.json', '52ff1c8d-9eab-41c8-b8bb-d126a34756fd.json', '81f67a82-695f-4975-a0f5-5937f7e4e05c.json', '80cc26bf-25a1-4ac5-9a0c-23186b157807.json', '8f39b60b-6530-4749-843c-e09b5d466695.json', '5b7f6b0f-cbe0-4678-baea-19202e87c587.json', '6e0fbd45-130f-4257-9ac8-459d4f073e8e.json', '16481dc4-1fd2-4af7-bd6a-71addc0821af.json', '88173e85-26cf-4bf8-865f-d2cc4fc7f7d2.json', '88bc21dd-0f05-4a39-9a35-64c39532a367.json', '230d860f-23ed-40aa-b570-a7a510e3c4ba.json', '7f0945a6-7f33-42c1-bcc4-ccc464c08ae9.json', '1751710f-bed1-46ac-8862-4db91a02274b.json', '8f78614b-2dba-4f35-9e78-4a7111286477.json', '75934a36-1f21-4eb1-873f-534786762e2c.json', '7756654c-e7bf-4045-9ae5-7a0e37ac710c.json', '197a1220-5385-4442-bc94-a153344fd323.json', '81acd315-c8a3-4f1b-9509-80502133ac68.json', '3d2607d3-f70d-4c95-a623-0ba7131da52a.json', '02f020da-50e4-4925-b569-c56ec54dc004.json', '19f386c9-4401-4c0e-9f26-6d32a4ce7949.json', '87f38cbe-c6e9-469b-b015-9e7e077b07cd.json', '30c604ea-a33e-4a83-aaaf-1a9cd08171d1.json', '72b2de4f-d008-4b35-9fce-8ad43092ff26.json', '88d12a7d-03ed-44fd-adc4-a060cbbecb24.json', '3d0cd0ab-2d53-46c5-bc86-3076279ca6e6.json', '75cec021-0314-42a8-acd3-fcc2eed628f4.json', '629eea98-3418-4ecd-a6ef-6bbf70502b50.json', '7f04bd34-dbc4-4024-aad5-fb87416b578b.json', '6c178ca8-72ab-41d7-8c06-98b5aa6e4f78.json', '24e929ac-901d-4387-8d2f-3bec54260dfa.json', '16e37d9b-5473-4e88-bafa-77fe60402cb7.json', '7393c6dc-d3fd-4875-bd6e-cdc01d4269bb.json', '6766bda3-e33c-46be-bfc7-bfe43e6b3847.json', '0f50c532-2ad7-41d0-9f7c-b0918fb1f39d.json', '386f58cb-5603-48ec-9efb-a5b22041ca34.json', '805b360c-2eae-4a2b-8500-249c92a867f0.json', '0501bc3d-9841-49a1-b2e1-e2df496d7b22.json', '7e276491-def4-4868-a852-ecb1910318ff.json', '4636c083-b6b6-4477-9be2-f3dae8c42a2d.json', '20e93dea-c810-45d5-9cb1-c48a5128b1d8.json', '1d296d75-b12b-4678-aa4d-6dd200054455.json', '781a0ad6-bc28-4ff8-a492-6ba333e4536a.json', '86f60912-4c4f-4422-9287-30909c458cc1.json', '44962135-7ae6-4ede-8228-1653190b0605.json', '333edd8b-7149-44f3-a96d-1e3cd95fda96.json', '2ceec8e1-cb0f-4c59-9e43-d055c65db916.json', '789c950d-cee9-43fb-a991-8c4cc22c61d5.json', '74eeee58-37a7-4e04-9e26-bc3d3c19df02.json', '803126a3-e72f-452f-b66f-02013bd35462.json', '21ac47c9-be80-454c-bf8f-cae534d3ff80.json', '2100032a-7c33-4bff-97ef-690822c43466.json', '02d973ef-2fff-463d-a70d-f0853484e94a.json', '61277511-31e9-4899-a7a4-2aa924967b4c.json', '1c1f73fb-8013-49a4-828c-e398330dc05e.json', '3b0f73eb-822b-4973-80e3-cd37684124df.json', '301a016c-1599-41ce-9478-6e0f76a873d2.json', '294a315c-a0c8-4365-a585-6b2a006dac71.json', '7f04db21-3db5-4e7d-8dfe-2263a0cbd016.json', '09517b33-8fe0-4a16-b158-6bc6c0409cf4.json', '8e3398c9-7e93-4fa6-ab6e-2a3d246a057a.json', '71967e36-925a-47ce-9962-a52f13a79fe2.json', '2952e657-2d39-42d9-b732-1f1a8609f007.json', '336b806f-727d-4751-8f78-9c82e2f928c0.json', '5e7bcd3c-665c-4541-bbbd-089abb1b11ae.json', '4b85d033-a583-49d5-a38b-3ef004fe6138.json', '3b30f42a-0cd7-4f76-9c5f-445cff1df70f.json', '641f3d1b-a516-4eb6-b58e-ea7db4c9827e.json', '9057e125-f8d4-4c86-bb0a-a7e0fc2087d2.json', '7bcfcf3c-a037-4429-80f7-f6974ec538be.json', '30ac418c-77f3-47d5-9a1a-ccacafa26c50.json', '8a03dacf-f8b9-4b97-a64b-d261712b07bf.json', '03386f9e-fdb3-4849-a1e9-da8f31e97f97.json', '107ad5aa-68bc-49bb-baa1-44cad438589a.json', '8120babd-4183-487b-8f9d-87f89e6e89c5.json', '8e9d6aec-d087-4df2-99a9-db322c6e0fd9.json', '26d3ef08-0102-4c32-8808-6189fb8661a0.json', '19d6dd28-fa01-457e-93ae-9ba8f512ed05.json', '55fc3608-befd-4a43-8c28-150604a4eadb.json', '8d7758b5-5bf4-4fdc-8fb9-cd77441e97e5.json', '90c6ebb9-dc7b-4abc-97f3-556776ecce91.json', '27852f40-80a6-4cbb-b043-b31b427bc8e3.json', '04f0863b-54fa-4ae5-ad0e-a9b4d42e2a29.json', '0f61b13c-aad8-4c9a-a282-36e45bd449ec.json', '585ad084-3e2e-49d8-aa24-5439ffae8973.json', '4053ae9b-d854-412b-bc15-f3f229595bf6.json', '32d5acd2-7a95-4eb4-a14f-0f368d7fbc07.json', '6b687474-d405-454c-8454-de0113cdfd6d.json', '73709540-a811-45b9-b1ba-2db98e8a7161.json', '40892940-c1a4-49c2-8f78-9ce5c5abc3af.json', '59a6f0d8-8918-4811-8a84-ede37cfeada6.json', '4be35ae7-bb1b-44ba-8217-76f5b1631dc6.json', '1080b3c1-5e40-4d9b-b9bb-7292cf543ecc.json', '38ca415f-9598-4011-91c9-a0d3a8534dc4.json', '8458da19-4511-4646-9775-663299feb03c.json', '555e24b4-c17b-4727-b94e-5af1a04540a0.json', '1b998515-dc69-48ca-8234-5ccbeb79b84d.json', '25d06897-b187-4fe7-988c-9338d9d52cc1.json', '05e6a542-a22a-489b-b2e6-92392ca3a0c4.json', '68b908b7-6a4c-451c-ae48-ac060dd833cc.json', '40793340-e3cf-462d-a985-fcf8659374cd.json', '0035a1ba-6d1e-487b-bc3d-d49c5d64a3e9.json', '4d5403f3-0503-4cee-b674-0287fce4aa9f.json', '881628ec-f031-49b8-9e46-7ae0dac35f05.json', '76827d8a-d83c-48bb-8b34-cf1d2193bead.json', '4fded7c1-e6e4-4100-bb93-4675c4c41b05.json', '6549fe85-5708-483b-bd34-a51d10c362f5.json', '6a4a1e69-bb73-4152-a534-ab8851ae4b11.json', '8a1754ef-1c66-458a-8f06-7c4e295e7929.json', '6cf69bf1-af3c-4d5b-98de-3e2d21f0f7f3.json', '6c7c589d-3dca-4606-8a36-b90c302ae3c2.json', '62c24688-de56-4dd4-ab30-c85bfe9bcb5f.json', '1cd1b12c-72af-43cc-a82b-5b41ce9419ad.json', '355083cb-eec7-4092-b04f-e8859aa7743e.json', '3fb8680b-41e9-4e96-89f1-551128c05ff2.json', '09608747-49bf-49dc-8a7c-7b068b463e77.json', '8b70e7b7-af52-437b-b943-490bef685217.json', '61be9239-fa39-4925-9981-f50cb8efd1ac.json', '876efdb4-613a-4310-b483-883bd75a567b.json', '307d670a-453b-4301-990b-10b3c85d0cb9.json', '5bc9379d-ad1c-4603-adb0-f00b40043a83.json', '2e68e877-8cf2-41c6-8ee2-c593b1d8d39a.json', '7c9cac51-8f78-4001-b353-d72053c0837c.json', '11a7e4c0-2522-44e0-9b0c-dc32b5b2c09f.json', '6a4fad01-fece-4b7e-84bf-83a1efe519f7.json', '84636c58-198e-4466-b136-42259aedeb14.json', '2c2e7822-a9e5-42aa-9307-2456e9d18ad8.json', '4b198c7c-fb1a-40a0-a107-fc30fb76ab2c.json', '2d9dee5e-d2eb-4727-b62f-59fd96d05beb.json', '3c7d9fff-a604-4765-bdf3-dda015020d88.json', '2fcf90aa-d85a-4410-a1c2-1699c1d07912.json', '3b911cdc-a2b6-435e-878f-bc22c7d43f0d.json', '66c77fd2-5f6b-4a2b-87c5-002da6ea3651.json', '2b47c071-86a8-4363-b9fa-8cd3311c438d.json', '5228264b-d42f-41ca-a708-760d4f308e13.json', '121992ca-f7b7-43a5-93c5-5e09842a0d14.json', '1bf27382-be73-4840-a5e0-ae38991964c7.json', '3e28eb1b-0c32-49ad-adc3-f911b6c8b547.json', '61d8727e-929b-4909-9d02-8a636011870c.json', '8a1afc03-2242-4829-b2cc-540ff1c0ed87.json', '37e42e04-f0f9-498b-a495-fdc2f6f21f1a.json', '63a4594f-1857-4dda-998c-2fba63d45e0a.json', '6dd83af6-ccf8-45d2-a378-32694898ab3b.json', '84ad14c9-fa1b-4edf-bd71-fe1259c3afc1.json', '191a76a4-2b9d-4ebc-a4f0-91ee875b080a.json', '5add69e7-d00f-4622-a731-99cd89dfe7e8.json', '546bfa09-a3a6-4ed9-9f8a-439c73237d3b.json', '2c4ff034-3f05-4ddd-a7d4-c3e4c36a91b3.json', '3c222ead-95c6-4bd7-8c20-1c640fa72ee7.json', '5137e78e-0a3c-4769-901e-0ad7e08a2d76.json', '7a5951d6-f98a-42ab-ab22-78f63598800d.json', '000efc17-13d8-433d-8f62-a3932fe4f3b8.json', '2cc4cafd-35e9-43dc-8868-a20dddf13e76.json', '2a595fa1-089c-4b1f-b6a1-45352cdf1a29.json', '1edcc3c1-f7af-495f-a166-e76aaca265d4.json', '3f8e895c-edca-4607-b7fc-939e378a4f60.json', '733b830f-2565-4845-b1f5-391f2af924b0.json', '55effd6b-ad63-4895-9a5f-08ac1b7141ac.json', '6063d324-eeb4-4615-8dc6-e0c07a93b576.json', '2f69d2ba-76b5-42cf-ab66-d459a6b71c7e.json', '453941ed-d199-47f7-bda4-166028276403.json', '417da4a9-ee22-49f6-bfa9-c37f778749dd.json', '636d7b24-2edc-4171-bb0b-3d983c2e2b05.json', '1f7da283-b81c-4577-bcda-ed6922653cf7.json', '4bd685b3-02d3-45dc-9890-d7fe262302c2.json', '4685f303-9679-4e84-86d0-c146e75dab2f.json', '7494a120-b28d-400b-8658-14d6c0ae59f3.json', '847a91c7-aba8-4f84-b6ca-6df4fc74e1c1.json', '8d3b8f4b-af34-4290-9662-841b0ce8da69.json', '6c406ae5-f9e4-4c2c-af04-2223ca7d2074.json', '18574dcb-927f-4f77-baf0-ded59b400253.json', '60f855e9-3267-4252-b3d6-a856062e58b9.json', '0b68e0a0-2db7-4906-929a-b5243a9433a9.json', '29e9b4b7-56b7-4418-9dfd-cda68a8eb0f8.json', '4c9ad485-a34c-401f-a228-06323b94303f.json', '61ba0d2b-f1be-4ef8-91f6-6d11bfbef760.json', '5d192bb2-fcc4-4a01-b7be-05fc14bf1b5d.json', '5b4cd22f-1857-4144-8297-1fdb034ed57d.json', '312d5b9a-dae5-433c-92b7-c342f2f922a7.json', '0cad3d98-8c3e-4510-9966-14cd248e2128.json', '785366d3-3452-4c6a-a5a9-ebdda50f7cea.json', '8bd91ed5-8554-469d-a750-09bde244eff4.json', '6e4f1acb-e918-4b4e-bdb1-c8e6287e9f55.json', '22b8aeb7-b252-4c16-b7b2-1b8db5ee8e50.json', '63127cfc-8816-41e9-b753-383c227913ce.json', '2de0ada3-e0d4-4420-88f8-89a84f347214.json', '768798c1-c981-44ce-aeea-0e5772fc7b37.json', '1d26decf-e459-4546-8059-60613d525b52.json', '1512bcd9-a13d-45f7-8290-8a55c5e56c69.json', '02eb52ff-c96e-447b-ab97-1a88fb571804.json', '06281659-0d41-4b8a-9171-afbc9b3dbfe7.json', '90cf466b-8b06-4b3f-88d3-cf11488e52f9.json', '46adb24a-1c9d-4e5c-8fac-626a944c50d7.json', '5a5c070b-3377-41a6-97f8-61f9b64cc3ce.json', '7cecea9e-3a56-4ed9-9289-5c35de5cc7af.json', '70e4fc25-3b16-4ab6-ac98-02985038eeca.json', '09c77fa7-b218-405b-93bc-6527d3b2628f.json', '43cc1027-8175-4c3f-a490-9846028e646a.json', '3d82e53a-7342-4037-a2c5-3a05fffbf5be.json', '824fcc98-8fb4-4726-846d-5a273a93102a.json', '5cb95a66-72f6-4602-aa62-0a11985493ef.json', '5541a061-e036-485c-8b85-4182d95650f3.json', '1c692dcf-61e7-4acb-b278-10d339163035.json', '6a0ae4e8-9e56-4c1c-a45f-718af6e429e8.json', '66b2a670-58f9-4f9a-adc0-013967b58144.json', '38a38f7e-8c87-4369-8d01-80e486905157.json', '4993a1c6-0d7d-443d-8c37-136e8f952001.json', '3b30406a-7041-4710-8a7a-0711a3a3a2e7.json', '242429b9-7b03-4d9f-aef5-1a7fc8ffaa13.json', '151ef979-3527-445b-b887-7ad42c1d2764.json', '6092034e-e457-4716-8247-5cf4cf939ad7.json', '6564c7dc-961c-44c7-b0bf-18f4306791cf.json', '00fbce95-0996-4f4d-ad61-885f87a68de3.json', '834b337e-5c4d-4eb5-8ff4-957d089e511d.json', '7e90de6a-d8a2-4726-8e47-7b7404a803a6.json', '712082d4-9c04-4f68-ae63-af1da4218bbe.json', '0f263966-8adb-45b7-a0ae-a66c9946ec4d.json', '72243268-396f-4309-aef4-8ee6dcde1a1d.json', '3eeb86d7-d91c-45a5-9658-9954f5965e6e.json', '205f3b6c-3cfd-4efa-8adf-0a2c00072e66.json', '1950e483-ced1-46c5-8eae-c8f262e27ceb.json', '7631973d-458d-4379-b781-c720ff3fb1d3.json', '8cce2e87-5e44-4236-a743-3dd9ab411e2c.json', '66a3dbe4-352b-4dad-a492-1e039df41520.json', '4d0b0405-2ffa-478a-b65c-dc9a6c6208fc.json', '452e01d4-c965-4081-9c51-065b78c1b844.json', '06d3eccb-eb5c-47c4-90a9-f1eb8eb7f934.json', '52a54d71-7672-40cd-abae-4f12a97f4c23.json', '24fdb69b-1982-41ca-8b0a-be1222ead09a.json', '86dc7a97-3353-4bc0-8f15-c2c21d00729b.json', '7ca89024-8945-491f-b611-ea38fd43d981.json', '113b3792-b2df-4355-9f41-eaa7a7db69ba.json', '43e4d960-6d51-4aa4-b54d-82d140058ac9.json', '12fd1c61-69f2-42a0-be75-fd7572ad0551.json', '75bd7eb4-cc18-4c64-a067-5fd982d7a221.json', '45310a0a-10ea-421a-b899-cd1c633986ba.json', '6238460c-3dc7-4bc6-a5b0-e05cd687a66a.json', '4ee38a92-b67a-41d1-ab90-307080f7b7b7.json', '9144cbe7-783a-4e98-af3a-a3e4f4c9b0eb.json', '52d261cc-a209-4fe5-bedc-760fff425d8f.json', '58429096-a7f4-4be4-8518-f9e76ec508f5.json', '2eda74bc-6b14-48ac-89fe-a00daf5aaaf3.json', '8b98f947-2007-4b28-8f73-e1576abe8531.json', '830e814b-9cd6-4b9a-a56f-8cad098994c9.json', '41abd631-22ee-42ed-83fc-b7a30240a6c4.json', '5a8c9c50-58de-4153-aead-ccdd396e801f.json', '77dbe35c-65a3-4252-9a02-0f59da52fd42.json', '6a498468-d162-45af-9b28-0a9fb44aadcd.json', '83291392-7897-4991-bf7b-d4977f02b69b.json', '4af4b233-e605-45ae-895a-b469c58db906.json', '3f1cd85e-d1f7-4456-abbe-a8437a8abd77.json', '79f1b0ed-1d7a-4528-993c-3f3bd238cb04.json', '853b60ed-28b6-4874-abb6-27ad4410ce35.json', '42388877-de41-4be4-b115-215de10322f3.json', '8419e8ef-88f6-492d-8bc1-c1d1a0fcf1ca.json', '16dc3742-5721-4b4d-a2e5-455b26806d1f.json', '6d3a1370-d2a4-4e11-846e-1bd3949bb5fa.json', '7ead95aa-4257-4960-8daa-e1075e68a8ff.json', '46a1f848-46f4-40a9-aae9-c1d7e5ac187b.json', '43053fe8-3250-4c6e-908d-9be45ea5cba6.json', '266fad32-068b-4d7d-adef-7178659abd90.json', '6e631113-569e-4d55-907c-c5f4b4e97e34.json', '24c978f1-a7a4-4887-b1b8-54cb923806d6.json', '7b2a05b3-3e75-40b3-b751-f82d69c56bc0.json', '5dcc18ea-0282-41c5-b1a6-b05feb90bb71.json', '2913a7eb-0ef4-497b-82a3-9464068d50b2.json', '720cb159-073f-47ae-b817-55c3b7b36639.json', '4d86b42c-11f3-4808-9bff-7eaa36bf9d05.json', '4810816f-e2f2-4711-9a06-8d7ae6710a47.json', '5c66052f-6e43-449f-8795-c2568372c71e.json', '237916dc-d021-4f89-99f3-2db13c1be7b0.json', '28be039f-edd8-4378-80dd-6734f5700f83.json', '41208356-2c7c-4c16-85a6-7fa545a3f06d.json', '0a58eb7d-a991-453e-a3c6-74bc5d50fbfd.json', '697062c0-e6ad-4383-9853-e72f542d54f3.json', '2a1fd4dc-7969-4a45-a136-d5f712e8eff7.json', '22ac65c1-ff3f-40e2-a800-306ea72c19e8.json', '286b79c1-d2d0-4c71-983a-236dd9ccc955.json', '313cad7f-c9c7-4c5a-836e-435bd3c2789f.json', '2f2072c3-02f3-4bb5-9d27-9c99797db304.json', '8370cd4d-780f-417f-8121-5a4fa3919144.json', '50191f12-2780-442b-a5f2-501749b921d5.json', '0ac7cd70-6f01-408d-a76e-433380f0b813.json', '159b5f7f-fa2f-494a-95cf-c8ba18e034ed.json', '2230bc8f-c35a-4707-bfe1-c4ff0ab83cde.json', '387c2bd3-32fa-49c9-b3e3-bc5109cd600d.json', '66698158-8404-4094-a8c3-e023a041388b.json', '15e3ad62-60c3-4543-ace1-83a98473aa2a.json', '68517938-dd7c-4843-b5cb-b986c266ee1c.json', '1f8f50d7-058b-472b-b0c2-6a1afd012d0b.json', '087f7e75-c71a-4da3-82cd-2c4afe3ccdfc.json', '3d8e0765-babf-4a22-af55-e04bc175b1ac.json', '3c4b1d7e-9df3-43da-9057-1526f7157d5f.json', '30a7dc5e-1eb5-4b4c-9ea2-b1a51ed0585f.json', '50855997-3d34-4468-8034-a3b4f4a687ac.json', '45515b80-4ccf-467f-a578-001194178856.json', '3db2463d-68ea-4e1b-b376-cbd89d4354fc.json', '084ba40b-c145-4ca7-90ba-89b5cf621986.json', '1e42e4f7-ab30-4779-9ccf-45067405a43c.json', '7a38504d-ec14-4e08-914e-bed6949e2465.json', '3e229bbc-bede-4d19-ba93-a52bb2117cc4.json', '39c5fc48-11e3-4078-a944-5e87a4fce1a8.json', '84ec1a49-b799-4e03-94b3-dd0553294808.json', '710e2d85-3141-4bfc-bde4-a548c7abd363.json', '56893d12-2653-4f0d-9c0b-d26658cd8bdb.json', '8b1551dd-e364-44d5-aeb9-7a1b1e0ba131.json', '6692fb3b-d8e2-432a-9b80-ffb30360b1d4.json', '02591c63-2de6-4a93-90f0-819be36ca265.json', '7dd94da5-96c6-4ea7-b907-6dd78c9a2f14.json', '8194b459-dc94-4c04-8866-26514d2e2121.json', '7062d8d1-0e21-48eb-91fb-426f4d669088.json', '554b876b-a16e-40f3-b585-e6b5fcab293b.json', '38266248-ac2f-4635-89b6-e7f5073aeff4.json', '46e4e339-3316-4cdf-a7ab-c2125917b3c2.json', '010713ff-ae8a-4523-ab23-e839abfac7c3.json', '8a7480ff-a8d2-4248-a120-fcba6a57e13e.json', '338a383f-cd2e-4080-a065-36ebc0682a20.json', '2bebcd49-ebed-428b-8cfb-a6051e0c27d9.json', '6ea26d8d-f5cc-44f4-8037-ea5a20d58602.json', '39d4e0c1-4f5d-4bee-92b4-cc52068417f1.json', '7d6483ac-bbe9-4247-b93b-b20731d842c2.json', '831ab3b1-3a04-4b49-a4b3-5a42f5dce0a1.json', '8c3a9103-935e-46d3-84e7-6176190a900a.json', '7a9fcb80-85b1-47bb-a3a5-4069c69b4068.json', '3e00a932-0597-42d8-b8f3-c010e315e3d6.json', '4fdbaae7-6660-4778-8b90-8728a88046e5.json', '6db465a5-51ed-4bb8-8211-2be2fa1a298a.json', '6c0522d2-7b4f-4d76-a091-54a4c9c688e7.json', '50e875f2-31bb-4b8c-a0ce-730372424538.json', '594150ad-f7a6-4e85-9b65-bfd805a9e7f4.json', '209dcbba-681a-4657-8bd9-4c85f21647c0.json', '48a529ac-91d5-4a30-acc2-2d5e520c9067.json', '2077e80a-7935-47bc-b2af-b0ec751ebd47.json', '288df1fb-ac2d-4a9a-8189-9836fbaf2933.json', '40760c9c-6658-4e2d-b7b6-60ee5919ec78.json', '03722e46-442e-482f-b95a-b45e02c3f789.json', '39b2f854-39a5-439b-b56f-b887d6ccf75f.json', '31498e13-0c1e-4997-8fef-be064174e8de.json', '6276c5df-85b4-4a64-808b-2a3b7379dead.json', '6419200b-bc24-43c0-b2f9-fa626d084c32.json', '755506a3-1516-4c8b-8fc0-ca10027aed61.json', '3bd0f678-7a16-4c6b-8692-3a57f2d7d0d1.json', '6ac03fb4-213d-4ac1-9cb6-f88ef90b989b.json', '7b53be02-2d42-4404-894e-60bebc8155fa.json', '458b00c7-c3d0-42b1-8ea4-769a2b8db8b5.json', '8736d7ff-0bdc-4705-87d7-1bd296189cba.json', '12243ef3-1b3d-4050-b052-5d00b18b8f6e.json', '904e54a9-6c35-4229-a825-bc6c66d3f362.json', '5bb54197-a483-418d-8083-63b2ec22342f.json', '0322119f-2de1-4675-96ce-75fba821c992.json', '853bea30-b8d4-4bcf-9a8c-fd611f8aab9e.json', '3a6fcbd0-fb0e-4b08-95de-300f0117ce6c.json', '579b4efc-7f87-4d42-b9b9-1a7520c0f75c.json', '53d28ba1-59ec-44d9-8d7b-60e1ba5b6883.json', '61a34038-47cb-4f61-ba36-b4a6e75500d1.json', '032d9f59-a6ee-4c29-9d8b-6806678ea761.json', '0b4c52e0-ab1b-4479-9bb1-5118f22b5841.json', '5eb395d9-87b5-44d7-b18f-8a99bb517c7d.json', '3f751d03-1db3-49cd-be4e-e2b45adcf7d3.json', '13550da5-2ad3-4664-8aec-c7bb0d0c7a01.json', '7f5a3cb7-98ec-49df-b3b6-eafbb7bc6adb.json', '44b5f814-1964-4645-b0b4-607a42cfd08d.json', '1a559be3-a27c-4524-8e93-6ca55ddbcd84.json', '26a4bdbd-7ec0-4165-a59c-13c975f9cc33.json', '3004e263-89d1-434c-94cc-466b4ea76f2d.json', '1f3a13b3-48e6-4037-8106-a47c6057a949.json', '43addec7-2922-42b6-8b29-99621a4b5111.json', '2fea9533-11eb-4298-b2fb-16061dc6681c.json', '316e4133-ec28-42fa-a9ce-7f50bb13fd58.json', '6fba7792-5ab0-453a-a1ac-ec29ea2f6754.json', '81794fe1-ca97-4906-a6cd-d68a3775def2.json', '29453a00-e408-432e-8b52-f54c41d8f033.json', '6e6f188d-bbdd-4375-bed7-00f0229ed85d.json', '8bc4076a-c685-42d0-9bc3-fe5ff75d1815.json', '7a15dfd0-58ef-495d-883c-b89f1f668396.json', '3e7c19cd-e15d-4aea-b64f-31f5bb875c7b.json', '2570357d-33a3-43fd-9b0e-d643b7c21443.json', '7a8c282c-c3f1-4776-8592-7a884c690d92.json', '0af5d983-7339-4f57-bca1-66587890dc19.json', '461e7a26-a342-4017-8b6e-a3abc8126cf3.json', '0253bb64-e45b-4e03-8a00-6e2d9ab8bc6e.json', '6dfedde4-d755-490b-9419-f637abde5331.json', '07239624-cb0e-462d-9083-6ef5225b1124.json', '33444f37-3478-487a-95ec-68f503cac134.json', '211c0140-922d-442c-8bf6-6edc42840385.json', '5fe3b13d-e2b6-4192-bb20-f4f77e64e2ac.json', '092a5bdc-5c71-436c-9ed8-57881a5d0670.json', '72806a03-bc8c-45ec-9aeb-0b158bfaf3b2.json', '600c73f8-ce55-46d8-a8e7-9dce36a04a89.json', '054861f8-1fd3-4898-8b45-02c3f9bf968a.json', '6ebdcf6b-34bb-4425-9cd8-5f998e618395.json', '03a2d401-6a5d-4ee9-b33c-0033ee4d7696.json', '8b8df427-5746-45b5-a88e-8a5cf4071339.json', '1d292092-f085-459c-b157-f9869a058bc2.json']\n"
     ]
    }
   ],
   "source": [
    "import pandas as pd\n",
    "df = pd.read_csv(settings.OUTPUT_CSV)\n",
    "print(df['file_name'].to_list())"
   ]
  },
  {
   "cell_type": "markdown",
   "id": "4a5b3189",
   "metadata": {},
   "source": [
    "### Sources\n",
    "\n",
    "- https://www.geeksforgeeks.org/nlp/n-gram-language-modelling-with-nltk/\n",
    "- https://aabidkarim.hashnode.dev/training-a-basic-language-model-trigram-language-model\n",
    "- https://medium.com/mti-technology/n-gram-language-models-70af02e742ad"
   ]
  }
 ],
 "metadata": {
  "kernelspec": {
   "display_name": "ai-351 (3.13.4)",
   "language": "python",
   "name": "python3"
  },
  "language_info": {
   "codemirror_mode": {
    "name": "ipython",
    "version": 3
   },
   "file_extension": ".py",
   "mimetype": "text/x-python",
   "name": "python",
   "nbconvert_exporter": "python",
   "pygments_lexer": "ipython3",
   "version": "3.13.4"
  }
 },
 "nbformat": 4,
 "nbformat_minor": 5
}
