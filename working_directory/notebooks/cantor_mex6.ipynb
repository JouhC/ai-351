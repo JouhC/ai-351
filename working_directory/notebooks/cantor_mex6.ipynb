{
 "cells": [
  {
   "cell_type": "code",
   "execution_count": 42,
   "id": "376797a0",
   "metadata": {},
   "outputs": [],
   "source": [
    "import math, random, argparse\n",
    "from pathlib import Path\n",
    "from collections import Counter, defaultdict\n",
    "from dataclasses import dataclass\n",
    "\n",
    "import torch\n",
    "import torch.nn as nn\n",
    "from torch.utils.data import Dataset, DataLoader\n",
    "from seqeval.metrics import f1_score\n",
    "from sklearn.metrics import classification_report\n",
    "from tqdm import tqdm\n",
    "import torch.backends.cudnn as cudnn\n",
    "from torch.nn.utils.rnn import pack_padded_sequence, pad_packed_sequence\n"
   ]
  },
  {
   "cell_type": "code",
   "execution_count": 2,
   "id": "3206441e",
   "metadata": {},
   "outputs": [],
   "source": [
    "PAD = \"<PAD>\"\n",
    "UNK = \"<UNK>\""
   ]
  },
  {
   "cell_type": "code",
   "execution_count": 3,
   "id": "e6a54578",
   "metadata": {},
   "outputs": [
    {
     "data": {
      "text/plain": [
       "device(type='cuda')"
      ]
     },
     "execution_count": 3,
     "metadata": {},
     "output_type": "execute_result"
    }
   ],
   "source": [
    "@dataclass\n",
    "class Config:\n",
    "    # model\n",
    "    emb_dim: int = 100\n",
    "    hidden_dim: int = 128\n",
    "    dropout: float = 0.2\n",
    "    # training\n",
    "    batch_size: int = 8\n",
    "    lr: float = 1e-3\n",
    "    epochs: int = 10\n",
    "    max_grad_norm: float = 5.0\n",
    "    seed: int = 17\n",
    "\n",
    "cfg = Config()\n",
    "\n",
    "def set_seed(seed=17):\n",
    "    random.seed(seed)\n",
    "    torch.manual_seed(seed)\n",
    "    torch.cuda.manual_seed_all(seed)\n",
    "set_seed(cfg.seed)\n",
    "\n",
    "device = torch.device(\"cuda\" if torch.cuda.is_available() else \"cpu\")\n",
    "device"
   ]
  },
  {
   "cell_type": "code",
   "execution_count": 4,
   "id": "0cd8ac21",
   "metadata": {},
   "outputs": [],
   "source": [
    "def read_conll(path):\n",
    "    \"\"\"\n",
    "    Reads a CoNLL file where each line is 'token [other cols ...] tag'\n",
    "    Sentences are separated by blank lines.\n",
    "    Returns: (list_of_token_lists, list_of_tag_lists)\n",
    "    \"\"\"\n",
    "    sents, tags = [], []\n",
    "    cur_w, cur_t = [], []\n",
    "    with open(path, \"r\", encoding=\"utf-8\") as f:\n",
    "        for line in f:\n",
    "            line = line.strip()\n",
    "            if not line:\n",
    "                if cur_w:\n",
    "                    sents.append(cur_w); tags.append(cur_t)\n",
    "                    cur_w, cur_t = [], []\n",
    "                continue\n",
    "            cols = line.split()\n",
    "            token, tag = cols[0], cols[-1]\n",
    "            cur_w.append(token)\n",
    "            cur_t.append(tag)\n",
    "    if cur_w:\n",
    "        sents.append(cur_w); tags.append(cur_t)\n",
    "    return sents, tags\n",
    "\n",
    "def build_word_vocab(sents, min_freq=1):\n",
    "    cnt = Counter([w for s in sents for w in s])\n",
    "    itos = [PAD, UNK] + [w for w,c in cnt.items() if c >= min_freq and w not in (PAD, UNK)]\n",
    "    stoi = {w:i for i,w in enumerate(itos)}\n",
    "    return stoi, itos\n",
    "\n",
    "def build_tag_vocab(tags):\n",
    "    itos = sorted(list({t for seq in tags for t in seq}))\n",
    "    stoi = {t:i for i,t in enumerate(itos)}\n",
    "    return stoi, itos"
   ]
  },
  {
   "cell_type": "code",
   "execution_count": 5,
   "id": "4f8e2efc",
   "metadata": {},
   "outputs": [],
   "source": [
    "class ConllDataset(Dataset):\n",
    "    def __init__(self, sents, tags, w2i, t2i):\n",
    "        self.instances = []\n",
    "        for wseq, tseq in zip(sents, tags):\n",
    "            x = [w2i.get(w, w2i[UNK]) for w in wseq]\n",
    "            y = [t2i[t] for t in tseq]\n",
    "            self.instances.append((x, y, len(x)))\n",
    "\n",
    "    def __len__(self): return len(self.instances)\n",
    "    def __getitem__(self, idx): return self.instances[idx]\n",
    "\n",
    "def pad_batch(batch, pad_idx):\n",
    "    maxlen = max(len(x) for x,_,_ in batch)\n",
    "    xs, ys, lens, mask = [], [], [], []\n",
    "    for x, y, L in batch:\n",
    "        pad = maxlen - len(x)\n",
    "        xs.append(x + [pad_idx]*pad)\n",
    "        ys.append(y + [-100]*pad)\n",
    "        lens.append(L)\n",
    "        mask.append([1]*L + [0]*pad)\n",
    "    return (torch.tensor(xs, dtype=torch.long),\n",
    "            torch.tensor(ys, dtype=torch.long),\n",
    "            torch.tensor(lens, dtype=torch.long),\n",
    "            torch.tensor(mask, dtype=torch.long))\n"
   ]
  },
  {
   "cell_type": "code",
   "execution_count": 6,
   "id": "617f1ec0",
   "metadata": {},
   "outputs": [],
   "source": [
    "class LSTMTagger(nn.Module):\n",
    "    def __init__(self, vocab_size, tag_size, emb_dim=100, hidden_dim=128, pad_idx=0, dropout=0.2):\n",
    "        super().__init__()\n",
    "        self.emb = nn.Embedding(vocab_size, emb_dim, padding_idx=pad_idx)\n",
    "        self.lstm = nn.LSTM(\n",
    "            emb_dim, hidden_dim,\n",
    "            num_layers=1,\n",
    "            bidirectional=False,\n",
    "            batch_first=True\n",
    "        )\n",
    "        self.dropout = nn.Dropout(dropout)\n",
    "        self.fc = nn.Linear(hidden_dim, tag_size)\n",
    "\n",
    "    def forward(self, x, lengths):\n",
    "        emb = self.emb(x)  # (B, T, E)\n",
    "        out, _ = self.lstm(emb)\n",
    "        out = self.dropout(out)\n",
    "        return self.fc(out)\n",
    "\n"
   ]
  },
  {
   "cell_type": "code",
   "execution_count": 7,
   "id": "1f7d9f59",
   "metadata": {},
   "outputs": [],
   "source": [
    "# CELL 5: training & evaluation\n",
    "\n",
    "def ids_to_tags(id_seqs, tag_itos, mask):\n",
    "    out = []\n",
    "    for seq, m in zip(id_seqs, mask):\n",
    "        out.append([tag_itos[i] for i, keep in zip(seq, m) if keep == 1])\n",
    "    return out\n",
    "\n",
    "@torch.no_grad()\n",
    "def evaluate(model, loader, tag_itos, device):\n",
    "    model.eval()\n",
    "    y_true_all, y_pred_all = [], []\n",
    "    for x, y, lens, mask in loader:\n",
    "        x, y, lens, mask = x.to(device), y.to(device), lens.to(device), mask.to(device)\n",
    "        logits = model(x, lens)  \n",
    "        pred = logits.argmax(-1)\n",
    "        y_true = ids_to_tags([seq.clamp_min(0).tolist() for seq in y], tag_itos, mask.tolist())\n",
    "        y_pred = ids_to_tags([seq.tolist() for seq in pred], tag_itos, mask.tolist())\n",
    "        y_true_all.extend(y_true)\n",
    "        y_pred_all.extend(y_pred)\n",
    "    f1 = f1_score(y_true_all, y_pred_all)\n",
    "    return f1, (y_true_all, y_pred_all)\n",
    "\n",
    "def train_loop(model, train_dl, dev_dl, tag_itos, cfg, device):\n",
    "    criterion = nn.CrossEntropyLoss(ignore_index=-100)\n",
    "    optim = torch.optim.AdamW(model.parameters(), lr=cfg.lr)\n",
    "    best_f1, best_state = -1, None\n",
    "    history = {\"train_loss\": [], \"dev_f1\": []}\n",
    "\n",
    "    for ep in range(1, cfg.epochs+1):\n",
    "        model.train()\n",
    "        running = 0.0\n",
    "        pbar = tqdm(train_dl, desc=f\"Epoch {ep}\")\n",
    "        for x, y, lens, _mask in pbar:\n",
    "            x, y, lens = x.to(device), y.to(device), lens.to(device)\n",
    "            optim.zero_grad()\n",
    "            logits = model(x, lens)  # (B, T, C)\n",
    "            loss = criterion(logits.reshape(-1, logits.size(-1)),\n",
    "                            y.reshape(-1))\n",
    "            loss.backward()\n",
    "            nn.utils.clip_grad_norm_(model.parameters(), max_norm=cfg.max_grad_norm)\n",
    "            optim.step()\n",
    "            running += loss.item()\n",
    "            pbar.set_postfix(loss=f\"{running / (pbar.n or 1):.4f}\")\n",
    "        history[\"train_loss\"].append(running / max(1, len(train_dl)))\n",
    "\n",
    "        dev_f1, _ = evaluate(model, dev_dl, tag_itos, device)\n",
    "        history[\"dev_f1\"].append(dev_f1)\n",
    "        print(f\"[Dev] F1 = {dev_f1:.4f}\")\n",
    "        if dev_f1 > best_f1:\n",
    "            best_f1 = dev_f1\n",
    "            best_state = {k: v.detach().cpu() for k, v in model.state_dict().items()}\n",
    "\n",
    "        torch.cuda.empty_cache()\n",
    "    if best_state:\n",
    "        model.load_state_dict(best_state)\n",
    "    return history\n"
   ]
  },
  {
   "cell_type": "code",
   "execution_count": null,
   "id": "dfb13bfe",
   "metadata": {},
   "outputs": [
    {
     "name": "stdout",
     "output_type": "stream",
     "text": [
      "Total sentences: 346535\n"
     ]
    },
    {
     "name": "stderr",
     "output_type": "stream",
     "text": [
      "Epoch 1: 100%|██████████| 31637/31637 [09:15<00:00, 56.97it/s, loss=0.0973] \n"
     ]
    },
    {
     "name": "stdout",
     "output_type": "stream",
     "text": [
      "[Dev] F1 = 0.0341\n"
     ]
    },
    {
     "name": "stderr",
     "output_type": "stream",
     "text": [
      "Epoch 2: 100%|██████████| 31637/31637 [09:17<00:00, 56.79it/s, loss=0.0911]\n"
     ]
    },
    {
     "name": "stdout",
     "output_type": "stream",
     "text": [
      "[Dev] F1 = 0.0735\n"
     ]
    },
    {
     "name": "stderr",
     "output_type": "stream",
     "text": [
      "Epoch 3: 100%|██████████| 31637/31637 [09:20<00:00, 56.46it/s, loss=0.0878]\n"
     ]
    },
    {
     "name": "stdout",
     "output_type": "stream",
     "text": [
      "[Dev] F1 = 0.0595\n"
     ]
    },
    {
     "name": "stderr",
     "output_type": "stream",
     "text": [
      "Epoch 4: 100%|██████████| 31637/31637 [09:19<00:00, 56.53it/s, loss=0.0844]\n"
     ]
    },
    {
     "name": "stdout",
     "output_type": "stream",
     "text": [
      "[Dev] F1 = 0.0726\n"
     ]
    },
    {
     "name": "stderr",
     "output_type": "stream",
     "text": [
      "Epoch 5: 100%|██████████| 31637/31637 [09:18<00:00, 56.69it/s, loss=0.0802]\n"
     ]
    },
    {
     "name": "stdout",
     "output_type": "stream",
     "text": [
      "[Dev] F1 = 0.0662\n"
     ]
    },
    {
     "name": "stderr",
     "output_type": "stream",
     "text": [
      "Epoch 6: 100%|██████████| 31637/31637 [09:25<00:00, 55.93it/s, loss=0.0762]\n"
     ]
    },
    {
     "name": "stdout",
     "output_type": "stream",
     "text": [
      "[Dev] F1 = 0.0543\n"
     ]
    },
    {
     "name": "stderr",
     "output_type": "stream",
     "text": [
      "Epoch 7: 100%|██████████| 31637/31637 [09:03<00:00, 58.26it/s, loss=0.0725]\n"
     ]
    },
    {
     "name": "stdout",
     "output_type": "stream",
     "text": [
      "[Dev] F1 = 0.0520\n"
     ]
    },
    {
     "name": "stderr",
     "output_type": "stream",
     "text": [
      "Epoch 8: 100%|██████████| 31637/31637 [08:44<00:00, 60.32it/s, loss=0.0695]\n"
     ]
    },
    {
     "name": "stdout",
     "output_type": "stream",
     "text": [
      "[Dev] F1 = 0.0524\n"
     ]
    },
    {
     "name": "stderr",
     "output_type": "stream",
     "text": [
      "Epoch 9: 100%|██████████| 31637/31637 [08:45<00:00, 60.17it/s, loss=0.0667]\n"
     ]
    },
    {
     "name": "stdout",
     "output_type": "stream",
     "text": [
      "[Dev] F1 = 0.0439\n"
     ]
    },
    {
     "name": "stderr",
     "output_type": "stream",
     "text": [
      "Epoch 10: 100%|██████████| 31637/31637 [08:42<00:00, 60.56it/s, loss=0.0649] \n"
     ]
    },
    {
     "name": "stdout",
     "output_type": "stream",
     "text": [
      "[Dev] F1 = 0.0478\n",
      "[Test] F1 = 0.0630\n",
      "              precision    recall  f1-score   support\n",
      "\n",
      "           _     0.2643    0.0358    0.0630      3884\n",
      "\n",
      "   micro avg     0.2643    0.0358    0.0630      3884\n",
      "   macro avg     0.2643    0.0358    0.0630      3884\n",
      "weighted avg     0.2643    0.0358    0.0630      3884\n",
      "\n"
     ]
    }
   ],
   "source": [
    "from sklearn.model_selection import train_test_split\n",
    "\n",
    "conll_path = \"../data/mex6/conll_1000.conll\"\n",
    "all_sents, all_tags = read_conll(conll_path)\n",
    "\n",
    "pairs = [(s,t) for s,t in zip(all_sents, all_tags) if len(s) > 0]\n",
    "all_sents, all_tags = map(list, zip(*pairs)) if pairs else ([], [])\n",
    "\n",
    "print(\"Total sentences:\", len(all_sents))\n",
    "\n",
    "# First split: train vs temp (dev+test)\n",
    "train_s, temp_s, train_t, temp_t = train_test_split(\n",
    "    all_sents, all_tags, test_size=0.3, random_state=cfg.seed\n",
    ")\n",
    "\n",
    "dev_s, test_s, dev_t, test_t = train_test_split(\n",
    "    temp_s, temp_t, test_size=0.5, random_state=cfg.seed\n",
    ")\n",
    "\n",
    "# Truncate or split long sequences into chunks of max_len tokens\n",
    "def truncate_dataset(sents, tags, max_len=100):\n",
    "    new_sents, new_tags = [], []\n",
    "    for s, t in zip(sents, tags):\n",
    "        while len(s) > max_len:\n",
    "            new_sents.append(s[:max_len])\n",
    "            new_tags.append(t[:max_len])\n",
    "            s, t = s[max_len:], t[max_len:]\n",
    "        if s:  # leftover shorter than max_len\n",
    "            new_sents.append(s)\n",
    "            new_tags.append(t)\n",
    "    return new_sents, new_tags\n",
    "\n",
    "# Apply to all splits\n",
    "train_s, train_t = truncate_dataset(train_s, train_t, max_len=100)\n",
    "dev_s, dev_t     = truncate_dataset(dev_s, dev_t, max_len=100)\n",
    "test_s, test_t   = truncate_dataset(test_s, test_t, max_len=100)\n",
    "\n",
    "w2i, i2w = build_word_vocab(train_s)\n",
    "t2i, i2t = build_tag_vocab(train_t)\n",
    "\n",
    "collate = lambda b: pad_batch(b, w2i[PAD])\n",
    "tr_ds = ConllDataset(train_s, train_t, w2i, t2i)\n",
    "dv_ds = ConllDataset(dev_s, dev_t, w2i, t2i)\n",
    "te_ds = ConllDataset(test_s, test_t, w2i, t2i)\n",
    "\n",
    "tr_dl = DataLoader(tr_ds, batch_size=cfg.batch_size, shuffle=True,  collate_fn=collate)\n",
    "dv_dl = DataLoader(dv_ds, batch_size=cfg.batch_size, shuffle=False, collate_fn=collate)\n",
    "te_dl = DataLoader(te_ds, batch_size=cfg.batch_size, shuffle=False, collate_fn=collate)\n",
    "\n",
    "model = LSTMTagger(len(i2w), len(i2t), cfg.emb_dim, cfg.hidden_dim, pad_idx=w2i[PAD], dropout=cfg.dropout).to(device)\n",
    "history = train_loop(model, tr_dl, dv_dl, i2t, cfg, device)\n",
    "\n",
    "# Final test\n",
    "test_f1, (y_true, y_pred) = evaluate(model, te_dl, i2t, device)\n",
    "\n",
    "print(f\"[Test] F1 = {test_f1:.4f}\")\n",
    "print(classification_report(y_true, y_pred, digits=4))"
   ]
  },
  {
   "cell_type": "code",
   "execution_count": 44,
   "id": "72a9238c",
   "metadata": {},
   "outputs": [],
   "source": [
    "torch.save(model.state_dict(), \"../outputs/mex6/lstm_model_weights.pth\")"
   ]
  },
  {
   "cell_type": "code",
   "execution_count": 43,
   "id": "a3c5a4a8",
   "metadata": {},
   "outputs": [
    {
     "name": "stdout",
     "output_type": "stream",
     "text": [
      "              precision    recall  f1-score   support\n",
      "\n",
      "           B     0.5761    0.0360    0.0678      3884\n",
      "           I     0.7172    0.0183    0.0358     30706\n",
      "           O     0.9849    0.9999    0.9923   2209703\n",
      "\n",
      "    accuracy                         0.9848   2244293\n",
      "   macro avg     0.7594    0.3514    0.3653   2244293\n",
      "weighted avg     0.9805    0.9848    0.9776   2244293\n",
      "\n"
     ]
    }
   ],
   "source": [
    "flat_true = [tag for sent in y_true for tag in sent]\n",
    "flat_pred = [tag for sent in y_pred for tag in sent]\n",
    "\n",
    "labels = [\"B\", \"I\", \"O\"]\n",
    "print(classification_report(flat_true, flat_pred, labels=labels, digits=4))"
   ]
  }
 ],
 "metadata": {
  "kernelspec": {
   "display_name": ".venv (3.12.11)",
   "language": "python",
   "name": "python3"
  },
  "language_info": {
   "codemirror_mode": {
    "name": "ipython",
    "version": 3
   },
   "file_extension": ".py",
   "mimetype": "text/x-python",
   "name": "python",
   "nbconvert_exporter": "python",
   "pygments_lexer": "ipython3",
   "version": "3.12.11"
  }
 },
 "nbformat": 4,
 "nbformat_minor": 5
}
