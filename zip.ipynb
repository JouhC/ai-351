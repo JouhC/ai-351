{
 "cells": [
  {
   "cell_type": "code",
   "execution_count": 2,
   "id": "57cf9a98",
   "metadata": {},
   "outputs": [
    {
     "name": "stdout",
     "output_type": "stream",
     "text": [
      "working_directory\n",
      "working_directory/outputs\n",
      "working_directory/outputs/mex2\n",
      "working_directory/__pycache__\n",
      "working_directory/cache\n",
      "working_directory/utils\n",
      "working_directory/utils/__pycache__\n",
      "working_directory/notebooks\n",
      "working_directory/data\n",
      "working_directory/data/mex2\n",
      "working_directory/data/mex2/train\n",
      "working_directory/data/mex2/test\n",
      "working_directory/data/mex3\n",
      "Project folder zipped successfully.\n"
     ]
    }
   ],
   "source": [
    "import os\n",
    "import zipfile\n",
    "from pathlib import Path\n",
    "\n",
    "def zip_project_folder(src_folder, zip_filename, exclude_dirs=None):\n",
    "    if exclude_dirs is None:\n",
    "        exclude_dirs = []\n",
    "\n",
    "    with zipfile.ZipFile(zip_filename, 'w', zipfile.ZIP_DEFLATED) as zipf:\n",
    "        for root, dirs, files in os.walk(src_folder):\n",
    "            print(root)\n",
    "            # Skip excluded directories\n",
    "            if any(ex_dir in root for ex_dir in exclude_dirs):\n",
    "                continue\n",
    "\n",
    "            for file in files:\n",
    "                if any(Path(ex_dir).name in file for ex_dir in exclude_dirs):\n",
    "                    continue\n",
    "                filepath = os.path.join(root, file)\n",
    "                arcname = os.path.relpath(filepath, src_folder)\n",
    "                zipf.write(filepath, arcname)\n",
    "\n",
    "zip_project_folder(\n",
    "    src_folder=\"working_directory\",\n",
    "    zip_filename=\"cantor_mex3.zip\",\n",
    "    exclude_dirs=[\"working_directory/data\", \n",
    "                  \"working_directory/cache\", \n",
    "                  \"working_directory/outputs\", \n",
    "                  \"working_directory/utils/extract_json.py\",\n",
    "                  \"working_directory/utils/own_bpe.py\",\n",
    "                  \"working_directory/notebooks/cantor_mex2.ipynb\",\n",
    "                  \"working_directory/__pycache__\"]\n",
    ")\n",
    "print(\"Project folder zipped successfully.\")"
   ]
  }
 ],
 "metadata": {
  "kernelspec": {
   "display_name": "ai-351 (3.13.4)",
   "language": "python",
   "name": "python3"
  },
  "language_info": {
   "codemirror_mode": {
    "name": "ipython",
    "version": 3
   },
   "file_extension": ".py",
   "mimetype": "text/x-python",
   "name": "python",
   "nbconvert_exporter": "python",
   "pygments_lexer": "ipython3",
   "version": "3.13.4"
  }
 },
 "nbformat": 4,
 "nbformat_minor": 5
}
